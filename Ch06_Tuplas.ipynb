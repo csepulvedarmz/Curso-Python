{
  "nbformat": 4,
  "nbformat_minor": 0,
  "metadata": {
    "colab": {
      "provenance": [],
      "include_colab_link": true
    },
    "kernelspec": {
      "name": "python3",
      "display_name": "Python 3"
    },
    "language_info": {
      "name": "python"
    }
  },
  "cells": [
    {
      "cell_type": "markdown",
      "metadata": {
        "id": "view-in-github",
        "colab_type": "text"
      },
      "source": [
        "<a href=\"https://colab.research.google.com/github/csepulvedarmz/Curso-Python/blob/main/Ch06_Tuplas.ipynb\" target=\"_parent\"><img src=\"https://colab.research.google.com/assets/colab-badge.svg\" alt=\"Open In Colab\"/></a>"
      ]
    },
    {
      "cell_type": "markdown",
      "source": [
        "# Tupla\n",
        "\n",
        "- Nos pueden servir para almacer valores\n",
        "- Se crear utilizando parentesis\n",
        "- Al igual que los str son objetos inmutables\n",
        "- Puede contener diferentes tipos de datos (heterogeneos)"
      ],
      "metadata": {
        "id": "dns3GeakdivY"
      }
    },
    {
      "cell_type": "code",
      "execution_count": null,
      "metadata": {
        "id": "ZQi9aNxwdOIg"
      },
      "outputs": [],
      "source": [
        "mi_primer_tupla = (\"México\", \"CDMX\")"
      ]
    },
    {
      "cell_type": "code",
      "source": [
        "type(mi_primer_tupla)"
      ],
      "metadata": {
        "colab": {
          "base_uri": "https://localhost:8080/"
        },
        "id": "xMe8npQ1eIyW",
        "outputId": "ba499cec-c07c-4bfa-8939-f71f2c7606af"
      },
      "execution_count": null,
      "outputs": [
        {
          "output_type": "execute_result",
          "data": {
            "text/plain": [
              "tuple"
            ]
          },
          "metadata": {},
          "execution_count": 2
        }
      ]
    },
    {
      "cell_type": "code",
      "source": [
        "mi_segunda_tupla = (\"Cuau\", 32)"
      ],
      "metadata": {
        "id": "jKS2E2rZeT_M"
      },
      "execution_count": null,
      "outputs": []
    },
    {
      "cell_type": "code",
      "source": [
        "mi_segunda_tupla"
      ],
      "metadata": {
        "colab": {
          "base_uri": "https://localhost:8080/"
        },
        "id": "rafJDpBCeYBn",
        "outputId": "ee3a548f-1567-442e-89e8-1727d89bcd26"
      },
      "execution_count": null,
      "outputs": [
        {
          "output_type": "execute_result",
          "data": {
            "text/plain": [
              "('Cuau', 32)"
            ]
          },
          "metadata": {},
          "execution_count": 4
        }
      ]
    },
    {
      "cell_type": "code",
      "source": [
        "(16, 28)"
      ],
      "metadata": {
        "colab": {
          "base_uri": "https://localhost:8080/"
        },
        "id": "g_cGuHoFem4t",
        "outputId": "c1988696-42cd-45df-d5d7-2f745f3088b2"
      },
      "execution_count": null,
      "outputs": [
        {
          "output_type": "execute_result",
          "data": {
            "text/plain": [
              "(16, 28)"
            ]
          },
          "metadata": {},
          "execution_count": 5
        }
      ]
    },
    {
      "cell_type": "markdown",
      "source": [
        "# Unpacking"
      ],
      "metadata": {
        "id": "YdBjpatNGE3D"
      }
    },
    {
      "cell_type": "code",
      "source": [
        "resultados = (16, 28)"
      ],
      "metadata": {
        "id": "CbtdJh8Ne57s"
      },
      "execution_count": null,
      "outputs": []
    },
    {
      "cell_type": "code",
      "source": [
        "resultados"
      ],
      "metadata": {
        "colab": {
          "base_uri": "https://localhost:8080/"
        },
        "id": "QCCEqTYWe8fS",
        "outputId": "60af1e0c-a48c-4838-e371-475001f1e40b"
      },
      "execution_count": null,
      "outputs": [
        {
          "output_type": "execute_result",
          "data": {
            "text/plain": [
              "(16, 28)"
            ]
          },
          "metadata": {},
          "execution_count": 7
        }
      ]
    },
    {
      "cell_type": "code",
      "source": [
        "perimetro, area = resultados"
      ],
      "metadata": {
        "id": "TEz3ioBie_bj"
      },
      "execution_count": null,
      "outputs": []
    },
    {
      "cell_type": "code",
      "source": [
        "perimetro"
      ],
      "metadata": {
        "colab": {
          "base_uri": "https://localhost:8080/"
        },
        "id": "DFBwUhElfDUD",
        "outputId": "7875c9f1-0222-460c-83b3-964ea028f1cd"
      },
      "execution_count": null,
      "outputs": [
        {
          "output_type": "execute_result",
          "data": {
            "text/plain": [
              "16"
            ]
          },
          "metadata": {},
          "execution_count": 9
        }
      ]
    },
    {
      "cell_type": "code",
      "source": [
        "area"
      ],
      "metadata": {
        "colab": {
          "base_uri": "https://localhost:8080/"
        },
        "id": "_kL39hIffFCY",
        "outputId": "fd42bc58-1215-4b03-8251-a76da49f29ca"
      },
      "execution_count": null,
      "outputs": [
        {
          "output_type": "execute_result",
          "data": {
            "text/plain": [
              "28"
            ]
          },
          "metadata": {},
          "execution_count": 10
        }
      ]
    },
    {
      "cell_type": "markdown",
      "source": [
        "# Accendiendo a los elementos"
      ],
      "metadata": {
        "id": "lSzOt7FfGRbE"
      }
    },
    {
      "cell_type": "code",
      "source": [
        "resultados[1]"
      ],
      "metadata": {
        "colab": {
          "base_uri": "https://localhost:8080/"
        },
        "id": "d3Jp3bl5fL7Y",
        "outputId": "42449547-de68-4df8-8aa2-4d34c5f8b234"
      },
      "execution_count": null,
      "outputs": [
        {
          "output_type": "execute_result",
          "data": {
            "text/plain": [
              "28"
            ]
          },
          "metadata": {},
          "execution_count": 12
        }
      ]
    },
    {
      "cell_type": "code",
      "source": [
        "resultados[10]"
      ],
      "metadata": {
        "colab": {
          "base_uri": "https://localhost:8080/",
          "height": 165
        },
        "id": "HpSIYrPmGaDD",
        "outputId": "5d6b9765-df14-43f7-a09f-08960d3ebbac"
      },
      "execution_count": null,
      "outputs": [
        {
          "output_type": "error",
          "ename": "IndexError",
          "evalue": "ignored",
          "traceback": [
            "\u001b[0;31m---------------------------------------------------------------------------\u001b[0m",
            "\u001b[0;31mIndexError\u001b[0m                                Traceback (most recent call last)",
            "\u001b[0;32m<ipython-input-13-023b711cfab3>\u001b[0m in \u001b[0;36m<cell line: 1>\u001b[0;34m()\u001b[0m\n\u001b[0;32m----> 1\u001b[0;31m \u001b[0mresultados\u001b[0m\u001b[0;34m[\u001b[0m\u001b[0;36m10\u001b[0m\u001b[0;34m]\u001b[0m\u001b[0;34m\u001b[0m\u001b[0;34m\u001b[0m\u001b[0m\n\u001b[0m",
            "\u001b[0;31mIndexError\u001b[0m: tuple index out of range"
          ]
        }
      ]
    },
    {
      "cell_type": "markdown",
      "source": [
        "# Operadores in, not in"
      ],
      "metadata": {
        "id": "T169qB-CGiYb"
      }
    },
    {
      "cell_type": "code",
      "source": [
        "mi_segunda_tupla = (\"Cuau\", 32)"
      ],
      "metadata": {
        "id": "izj-ifORfbjp"
      },
      "execution_count": null,
      "outputs": []
    },
    {
      "cell_type": "code",
      "source": [
        "\"Cuau\" in mi_segunda_tupla"
      ],
      "metadata": {
        "colab": {
          "base_uri": "https://localhost:8080/"
        },
        "id": "ZDwola2ZffDS",
        "outputId": "8b4c57a3-d80b-420d-aeb6-4d46bdf001c6"
      },
      "execution_count": null,
      "outputs": [
        {
          "output_type": "execute_result",
          "data": {
            "text/plain": [
              "True"
            ]
          },
          "metadata": {},
          "execution_count": 15
        }
      ]
    },
    {
      "cell_type": "code",
      "source": [
        "\"Jess\" in mi_segunda_tupla"
      ],
      "metadata": {
        "colab": {
          "base_uri": "https://localhost:8080/"
        },
        "id": "qagajm1VfmuJ",
        "outputId": "34aa3739-4b09-4315-d3c4-3b5ffab85f82"
      },
      "execution_count": null,
      "outputs": [
        {
          "output_type": "execute_result",
          "data": {
            "text/plain": [
              "False"
            ]
          },
          "metadata": {},
          "execution_count": 16
        }
      ]
    },
    {
      "cell_type": "markdown",
      "source": [
        "# Inmutabilidad"
      ],
      "metadata": {
        "id": "T5ZcuXO5GrlV"
      }
    },
    {
      "cell_type": "code",
      "source": [
        "mi_tercer_tupla = (1, 2, 3, 5, 10)"
      ],
      "metadata": {
        "id": "CqU3uW1efxkW"
      },
      "execution_count": null,
      "outputs": []
    },
    {
      "cell_type": "code",
      "source": [
        "mi_tercer_tupla[0] = 4"
      ],
      "metadata": {
        "colab": {
          "base_uri": "https://localhost:8080/",
          "height": 165
        },
        "id": "LfRXDC78f2I5",
        "outputId": "80c87497-7a39-498e-d21d-4f24c08fa4eb"
      },
      "execution_count": null,
      "outputs": [
        {
          "output_type": "error",
          "ename": "TypeError",
          "evalue": "ignored",
          "traceback": [
            "\u001b[0;31m---------------------------------------------------------------------------\u001b[0m",
            "\u001b[0;31mTypeError\u001b[0m                                 Traceback (most recent call last)",
            "\u001b[0;32m<ipython-input-18-706a537492d6>\u001b[0m in \u001b[0;36m<cell line: 1>\u001b[0;34m()\u001b[0m\n\u001b[0;32m----> 1\u001b[0;31m \u001b[0mmi_tercer_tupla\u001b[0m\u001b[0;34m[\u001b[0m\u001b[0;36m0\u001b[0m\u001b[0;34m]\u001b[0m \u001b[0;34m=\u001b[0m \u001b[0;36m4\u001b[0m\u001b[0;34m\u001b[0m\u001b[0;34m\u001b[0m\u001b[0m\n\u001b[0m",
            "\u001b[0;31mTypeError\u001b[0m: 'tuple' object does not support item assignment"
          ]
        }
      ]
    },
    {
      "cell_type": "code",
      "source": [
        "len(mi_tercer_tupla)"
      ],
      "metadata": {
        "colab": {
          "base_uri": "https://localhost:8080/"
        },
        "id": "g8yMQAG8gIYA",
        "outputId": "59ed080e-7310-4eef-9c32-288489402b96"
      },
      "execution_count": null,
      "outputs": [
        {
          "output_type": "execute_result",
          "data": {
            "text/plain": [
              "5"
            ]
          },
          "metadata": {},
          "execution_count": 19
        }
      ]
    },
    {
      "cell_type": "code",
      "source": [
        "len(\"hola mundo\")"
      ],
      "metadata": {
        "colab": {
          "base_uri": "https://localhost:8080/"
        },
        "id": "eweAUxlvgK0p",
        "outputId": "9d9f07df-c316-48bf-d369-affdda773140"
      },
      "execution_count": null,
      "outputs": [
        {
          "output_type": "execute_result",
          "data": {
            "text/plain": [
              "10"
            ]
          },
          "metadata": {},
          "execution_count": 20
        }
      ]
    },
    {
      "cell_type": "markdown",
      "source": [
        "# Aplicación de tuplas"
      ],
      "metadata": {
        "id": "HBZ6ArVJG-mP"
      }
    },
    {
      "cell_type": "code",
      "source": [
        "def calculate_square_properties(side_lengh):\n",
        "  \"\"\"Calculates the area and perimeter of a square\"\"\"\n",
        "\n",
        "  area = side_lengh ** 2\n",
        "  perimeter = 4 * side_lengh\n",
        "\n",
        "  return (area, perimeter)"
      ],
      "metadata": {
        "id": "ZESmUjrEHA14"
      },
      "execution_count": null,
      "outputs": []
    },
    {
      "cell_type": "markdown",
      "source": [
        "# Lab\n",
        "\n",
        "Crear una función similar a `calculate_square_properties` para un rectángulo o círculo y regrese 3 valores:\n",
        "1. área\n",
        "2. perímetro\n",
        "3. color\n",
        "\n",
        "**Nota:** Tu función debe aceptar 3 argumentos (réctangulo) ó 2 argumentos (círculo)\n",
        "\n",
        "El tipo de dato resultate esperado es una tupla (área, perímetro, color)."
      ],
      "metadata": {
        "id": "GiAS_AD5JmhO"
      }
    },
    {
      "cell_type": "code",
      "source": [
        "# Resultado\n",
        "def calcular_propiedades_rectangulo(base, altura, color):\n",
        "  \"\"\"Calcula y regresa el área de un perímetro y el color\"\"\"\n",
        "  area = base * altura\n",
        "  perimetro = 2 * (base + altura)\n",
        "\n",
        "  return area, perimetro, color\n",
        "\n",
        "var_base = 10\n",
        "var_altura = 20\n",
        "var_color = \"rojo\"\n",
        "\n",
        "calcular_propiedades_rectangulo(base=var_base, altura=var_altura, color=var_color)"
      ],
      "metadata": {
        "colab": {
          "base_uri": "https://localhost:8080/"
        },
        "id": "xDQrbNcWM45-",
        "outputId": "08b19fb8-3726-4e66-ffe2-ac90ee0c4cfe"
      },
      "execution_count": null,
      "outputs": [
        {
          "output_type": "execute_result",
          "data": {
            "text/plain": [
              "(200, 60, 'rojo')"
            ]
          },
          "metadata": {},
          "execution_count": 41
        }
      ]
    },
    {
      "cell_type": "code",
      "source": [
        "side = 5.0\n",
        "results = calculate_square_properties(side)"
      ],
      "metadata": {
        "id": "b1gJQfHNHxAf"
      },
      "execution_count": null,
      "outputs": []
    },
    {
      "cell_type": "code",
      "source": [
        "results"
      ],
      "metadata": {
        "colab": {
          "base_uri": "https://localhost:8080/"
        },
        "id": "-PSgVTvcH3l7",
        "outputId": "3e4b261b-5cc2-4350-bdf3-75916f9de971"
      },
      "execution_count": null,
      "outputs": [
        {
          "output_type": "execute_result",
          "data": {
            "text/plain": [
              "(25.0, 20.0)"
            ]
          },
          "metadata": {},
          "execution_count": 24
        }
      ]
    },
    {
      "cell_type": "code",
      "source": [
        "type(results)"
      ],
      "metadata": {
        "colab": {
          "base_uri": "https://localhost:8080/"
        },
        "id": "-WZn_r0jH78u",
        "outputId": "7b324b8a-5e67-40ba-8aa5-f1188aaa9da9"
      },
      "execution_count": null,
      "outputs": [
        {
          "output_type": "execute_result",
          "data": {
            "text/plain": [
              "tuple"
            ]
          },
          "metadata": {},
          "execution_count": 25
        }
      ]
    },
    {
      "cell_type": "code",
      "source": [
        "# area, perimeter = calculate_square_properties(side)\n",
        "area, perimeter = results"
      ],
      "metadata": {
        "id": "dyBSUoSLH9bX"
      },
      "execution_count": null,
      "outputs": []
    },
    {
      "cell_type": "code",
      "source": [
        "area"
      ],
      "metadata": {
        "colab": {
          "base_uri": "https://localhost:8080/"
        },
        "id": "vgFju3-JIA-4",
        "outputId": "95232c4a-cb4c-4ed7-d894-85eb14620746"
      },
      "execution_count": null,
      "outputs": [
        {
          "output_type": "execute_result",
          "data": {
            "text/plain": [
              "25.0"
            ]
          },
          "metadata": {},
          "execution_count": 27
        }
      ]
    },
    {
      "cell_type": "code",
      "source": [
        "perimeter"
      ],
      "metadata": {
        "colab": {
          "base_uri": "https://localhost:8080/"
        },
        "id": "JkWew2DwICYz",
        "outputId": "61b9f078-b863-45e4-a882-f778a6487982"
      },
      "execution_count": null,
      "outputs": [
        {
          "output_type": "execute_result",
          "data": {
            "text/plain": [
              "20.0"
            ]
          },
          "metadata": {},
          "execution_count": 28
        }
      ]
    },
    {
      "cell_type": "markdown",
      "source": [
        "Ventajas:\n",
        "- Es más rápido iterar sobre una tupla que sobre una lista\n",
        "- Se recomiendadn para datos no modificables para evitar errores durante el procesamiento de datos"
      ],
      "metadata": {
        "id": "G3kigPolILqI"
      }
    },
    {
      "cell_type": "code",
      "source": [
        "# Tuple iteration\n",
        "def iterate_tuple():\n",
        "    my_tuple = (1, 2, 3, 4, 5)\n",
        "    for item in my_tuple:\n",
        "        # print(item)\n",
        "        pass\n",
        "\n",
        "# List iteration\n",
        "def iterate_list():\n",
        "    my_list = [1, 2, 3, 4, 5]\n",
        "    for item in my_list:\n",
        "        # print(item)\n",
        "        pass"
      ],
      "metadata": {
        "id": "INVLD5rdIZL6"
      },
      "execution_count": null,
      "outputs": []
    },
    {
      "cell_type": "code",
      "source": [
        "import timeit\n",
        "\n",
        "# Probar el tiempo de ejecución para las tuplas\n",
        "timeit.timeit(iterate_tuple, number=10_000_000)\n",
        "# 1_000 iteraciones = 0.0003056670000205486\n",
        "# 10 millones de iteraciones = 1.49334"
      ],
      "metadata": {
        "colab": {
          "base_uri": "https://localhost:8080/"
        },
        "id": "4xgR_AlnImwb",
        "outputId": "16dd05dd-f730-44eb-fce7-2119d06becaf"
      },
      "execution_count": null,
      "outputs": [
        {
          "output_type": "execute_result",
          "data": {
            "text/plain": [
              "1.4403801249998196"
            ]
          },
          "metadata": {},
          "execution_count": 34
        }
      ]
    },
    {
      "cell_type": "code",
      "source": [
        "timeit.timeit(iterate_list, number=10_000_000)"
      ],
      "metadata": {
        "colab": {
          "base_uri": "https://localhost:8080/"
        },
        "id": "Ovw21lscI77J",
        "outputId": "3db8bea7-889e-41ae-dc4d-6b5c1beecd26"
      },
      "execution_count": null,
      "outputs": [
        {
          "output_type": "execute_result",
          "data": {
            "text/plain": [
              "1.9934982309998759"
            ]
          },
          "metadata": {},
          "execution_count": 37
        }
      ]
    },
    {
      "cell_type": "code",
      "source": [
        "import math\n",
        "def calcular_propiedades_circulo(radio, color):\n",
        "  \"\"\"Calcula y regresa el área de un perímetro y el color\"\"\"\n",
        "  area = math.pi * pow(radio,2)\n",
        "  perimetro = 2*math.pi*radio\n",
        "\n",
        "  return area, perimetro, color\n",
        "\n",
        "var_radio = 10\n",
        "var_color = \"rojo\"\n",
        "\n",
        "calcular_propiedades_circulo(radio=var_radio, color=var_color)"
      ],
      "metadata": {
        "id": "5uOe5nDETGjy",
        "outputId": "e73df8cf-4e13-4f8a-a124-4e349a7c29fc",
        "colab": {
          "base_uri": "https://localhost:8080/"
        }
      },
      "execution_count": 3,
      "outputs": [
        {
          "output_type": "execute_result",
          "data": {
            "text/plain": [
              "(314.1592653589793, 62.83185307179586, 'rojo')"
            ]
          },
          "metadata": {},
          "execution_count": 3
        }
      ]
    },
    {
      "cell_type": "code",
      "source": [],
      "metadata": {
        "id": "wRFmHpOwTmBq"
      },
      "execution_count": null,
      "outputs": []
    }
  ]
}