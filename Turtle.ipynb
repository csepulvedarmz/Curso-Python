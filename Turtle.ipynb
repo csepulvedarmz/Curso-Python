{
  "nbformat": 4,
  "nbformat_minor": 0,
  "metadata": {
    "colab": {
      "provenance": [],
      "authorship_tag": "ABX9TyM9DeP2xry415ZXWhlkkQTs",
      "include_colab_link": true
    },
    "kernelspec": {
      "name": "python3",
      "display_name": "Python 3"
    },
    "language_info": {
      "name": "python"
    }
  },
  "cells": [
    {
      "cell_type": "markdown",
      "metadata": {
        "id": "view-in-github",
        "colab_type": "text"
      },
      "source": [
        "<a href=\"https://colab.research.google.com/github/csepulvedarmz/Curso-Python/blob/main/Turtle.ipynb\" target=\"_parent\"><img src=\"https://colab.research.google.com/assets/colab-badge.svg\" alt=\"Open In Colab\"/></a>"
      ]
    },
    {
      "cell_type": "markdown",
      "source": [
        "#Instalacion\n"
      ],
      "metadata": {
        "id": "DBd1zlgl_7E7"
      }
    },
    {
      "cell_type": "code",
      "source": [
        "!pip3 install ColabTurtle"
      ],
      "metadata": {
        "colab": {
          "base_uri": "https://localhost:8080/"
        },
        "id": "-br7uOcsAOEi",
        "outputId": "5588f70c-af49-4209-ce0c-5c8682cec573"
      },
      "execution_count": null,
      "outputs": [
        {
          "output_type": "stream",
          "name": "stdout",
          "text": [
            "Requirement already satisfied: ColabTurtle in /usr/local/lib/python3.10/dist-packages (2.1.0)\n"
          ]
        }
      ]
    },
    {
      "cell_type": "code",
      "execution_count": null,
      "metadata": {
        "id": "q5Cgk7au-7L2"
      },
      "outputs": [],
      "source": [
        "from ColabTurtle.Turtle import *"
      ]
    },
    {
      "cell_type": "code",
      "source": [
        "import ColabTurtle"
      ],
      "metadata": {
        "id": "TzpDHHOzApUQ"
      },
      "execution_count": null,
      "outputs": []
    },
    {
      "cell_type": "code",
      "source": [
        "initializeTurtle(initial_speed=7)\n",
        "colors_list = ['red', \"purple\", \"blue\", \"green\", \"orange\", \"yellow\"]\n",
        "\n",
        "for value in range(360):\n",
        "  pencolor(colors_list[value%6])\n",
        "  width(int(value/100) + 1)\n",
        "  forward(value/1.5)\n",
        "  left(59)"
      ],
      "metadata": {
        "colab": {
          "base_uri": "https://localhost:8080/",
          "height": 924
        },
        "id": "iHlz6yt2A0Ik",
        "outputId": "ccad3263-b0ce-44e4-dbf7-83e3b1b2531d"
      },
      "execution_count": 84,
      "outputs": [
        {
          "output_type": "display_data",
          "data": {
            "text/plain": [
              "<IPython.core.display.HTML object>"
            ],
            "text/html": [
              "\n",
              "      <svg width=\"800\" height=\"500\">\n",
              "        <rect width=\"100%\" height=\"100%\" fill=\"black\"/>\n",
              "        <line x1=\"400\" y1=\"250\" x2=\"400.0\" y2=\"250.0\" stroke-linecap=\"round\" style=\"stroke:red;stroke-width:1\"/><line x1=\"400.0\" y1=\"250.0\" x2=\"399.429\" y2=\"249.657\" stroke-linecap=\"round\" style=\"stroke:purple;stroke-width:1\"/><line x1=\"399.429\" y1=\"249.657\" x2=\"398.252\" y2=\"250.283\" stroke-linecap=\"round\" style=\"stroke:blue;stroke-width:1\"/><line x1=\"398.252\" y1=\"250.283\" x2=\"398.147\" y2=\"252.28\" stroke-linecap=\"round\" style=\"stroke:green;stroke-width:1\"/><line x1=\"398.147\" y1=\"252.28\" x2=\"400.358\" y2=\"253.771\" stroke-linecap=\"round\" style=\"stroke:orange;stroke-width:1\"/><line x1=\"400.358\" y1=\"253.771\" x2=\"403.379\" y2=\"252.362\" stroke-linecap=\"round\" style=\"stroke:yellow;stroke-width:1\"/><line x1=\"403.379\" y1=\"252.362\" x2=\"403.797\" y2=\"248.384\" stroke-linecap=\"round\" style=\"stroke:red;stroke-width:1\"/><line x1=\"403.797\" y1=\"248.384\" x2=\"400.07\" y2=\"245.576\" stroke-linecap=\"round\" style=\"stroke:purple;stroke-width:1\"/><line x1=\"400.07\" y1=\"245.576\" x2=\"395.125\" y2=\"247.574\" stroke-linecap=\"round\" style=\"stroke:blue;stroke-width:1\"/><line x1=\"395.125\" y1=\"247.574\" x2=\"394.186\" y2=\"253.5\" stroke-linecap=\"round\" style=\"stroke:green;stroke-width:1\"/><line x1=\"394.186\" y1=\"253.5\" x2=\"399.293\" y2=\"257.785\" stroke-linecap=\"round\" style=\"stroke:orange;stroke-width:1\"/>\n",
              "        <g visibility=visible transform=\"rotate(431,399.293,257.785) translate(381.293, 239.78500000000003)\">\n",
              "<path style=\" stroke:none;fill-rule:evenodd;fill:yellow;fill-opacity:1;\" d=\"M 18.214844 0.632812 C 16.109375 1.800781 15.011719 4.074219 15.074219 7.132812 L 15.085938 7.652344 L 14.785156 7.496094 C 13.476562 6.824219 11.957031 6.671875 10.40625 7.066406 C 8.46875 7.550781 6.515625 9.15625 4.394531 11.992188 C 3.0625 13.777344 2.679688 14.636719 3.042969 15.027344 L 3.15625 15.152344 L 3.519531 15.152344 C 4.238281 15.152344 4.828125 14.886719 8.1875 13.039062 C 9.386719 12.378906 10.371094 11.839844 10.378906 11.839844 C 10.386719 11.839844 10.355469 11.929688 10.304688 12.035156 C 9.832031 13.09375 9.257812 14.820312 8.96875 16.078125 C 7.914062 20.652344 8.617188 24.53125 11.070312 27.660156 C 11.351562 28.015625 11.363281 27.914062 10.972656 28.382812 C 8.925781 30.84375 7.945312 33.28125 8.238281 35.1875 C 8.289062 35.527344 8.28125 35.523438 8.917969 35.523438 C 10.941406 35.523438 13.074219 34.207031 15.136719 31.6875 C 15.359375 31.417969 15.328125 31.425781 15.5625 31.574219 C 16.292969 32.042969 18.023438 32.964844 18.175781 32.964844 C 18.335938 32.964844 19.941406 32.210938 20.828125 31.71875 C 20.996094 31.625 21.136719 31.554688 21.136719 31.558594 C 21.203125 31.664062 21.898438 32.414062 22.222656 32.730469 C 23.835938 34.300781 25.5625 35.132812 27.582031 35.300781 C 27.90625 35.328125 27.9375 35.308594 28.007812 34.984375 C 28.382812 33.242188 27.625 30.925781 25.863281 28.425781 L 25.542969 27.96875 L 25.699219 27.785156 C 28.945312 23.960938 29.132812 18.699219 26.257812 11.96875 L 26.207031 11.84375 L 27.945312 12.703125 C 31.53125 14.476562 32.316406 14.800781 33.03125 14.800781 C 33.976562 14.800781 33.78125 13.9375 32.472656 12.292969 C 28.519531 7.355469 25.394531 5.925781 21.921875 7.472656 L 21.558594 7.636719 L 21.578125 7.542969 C 21.699219 6.992188 21.761719 5.742188 21.699219 5.164062 C 21.496094 3.296875 20.664062 1.964844 19.003906 0.855469 C 18.480469 0.503906 18.457031 0.5 18.214844 0.632812\"/>\n",
              "</g>\n",
              "      </svg>\n",
              "    "
            ]
          },
          "metadata": {}
        },
        {
          "output_type": "error",
          "ename": "KeyboardInterrupt",
          "evalue": "ignored",
          "traceback": [
            "\u001b[0;31m---------------------------------------------------------------------------\u001b[0m",
            "\u001b[0;31mKeyboardInterrupt\u001b[0m                         Traceback (most recent call last)",
            "\u001b[0;32m<ipython-input-84-44ea256edc6f>\u001b[0m in \u001b[0;36m<cell line: 4>\u001b[0;34m()\u001b[0m\n\u001b[1;32m      5\u001b[0m   \u001b[0mpencolor\u001b[0m\u001b[0;34m(\u001b[0m\u001b[0mcolors_list\u001b[0m\u001b[0;34m[\u001b[0m\u001b[0mvalue\u001b[0m\u001b[0;34m%\u001b[0m\u001b[0;36m6\u001b[0m\u001b[0;34m]\u001b[0m\u001b[0;34m)\u001b[0m\u001b[0;34m\u001b[0m\u001b[0;34m\u001b[0m\u001b[0m\n\u001b[1;32m      6\u001b[0m   \u001b[0mwidth\u001b[0m\u001b[0;34m(\u001b[0m\u001b[0mint\u001b[0m\u001b[0;34m(\u001b[0m\u001b[0mvalue\u001b[0m\u001b[0;34m/\u001b[0m\u001b[0;36m100\u001b[0m\u001b[0;34m)\u001b[0m \u001b[0;34m+\u001b[0m \u001b[0;36m1\u001b[0m\u001b[0;34m)\u001b[0m\u001b[0;34m\u001b[0m\u001b[0;34m\u001b[0m\u001b[0m\n\u001b[0;32m----> 7\u001b[0;31m   \u001b[0mforward\u001b[0m\u001b[0;34m(\u001b[0m\u001b[0mvalue\u001b[0m\u001b[0;34m/\u001b[0m\u001b[0;36m1.5\u001b[0m\u001b[0;34m)\u001b[0m\u001b[0;34m\u001b[0m\u001b[0;34m\u001b[0m\u001b[0m\n\u001b[0m\u001b[1;32m      8\u001b[0m   \u001b[0mleft\u001b[0m\u001b[0;34m(\u001b[0m\u001b[0;36m59\u001b[0m\u001b[0;34m)\u001b[0m\u001b[0;34m\u001b[0m\u001b[0;34m\u001b[0m\u001b[0m\n",
            "\u001b[0;32m/usr/local/lib/python3.10/dist-packages/ColabTurtle/Turtle.py\u001b[0m in \u001b[0;36mforward\u001b[0;34m(units)\u001b[0m\n\u001b[1;32m    172\u001b[0m     \u001b[0mending_point\u001b[0m \u001b[0;34m=\u001b[0m \u001b[0;34m(\u001b[0m\u001b[0mturtle_pos\u001b[0m\u001b[0;34m[\u001b[0m\u001b[0;36m0\u001b[0m\u001b[0;34m]\u001b[0m \u001b[0;34m+\u001b[0m \u001b[0munits\u001b[0m \u001b[0;34m*\u001b[0m \u001b[0mmath\u001b[0m\u001b[0;34m.\u001b[0m\u001b[0mcos\u001b[0m\u001b[0;34m(\u001b[0m\u001b[0malpha\u001b[0m\u001b[0;34m)\u001b[0m\u001b[0;34m,\u001b[0m \u001b[0mturtle_pos\u001b[0m\u001b[0;34m[\u001b[0m\u001b[0;36m1\u001b[0m\u001b[0;34m]\u001b[0m \u001b[0;34m+\u001b[0m \u001b[0munits\u001b[0m \u001b[0;34m*\u001b[0m \u001b[0mmath\u001b[0m\u001b[0;34m.\u001b[0m\u001b[0msin\u001b[0m\u001b[0;34m(\u001b[0m\u001b[0malpha\u001b[0m\u001b[0;34m)\u001b[0m\u001b[0;34m)\u001b[0m\u001b[0;34m\u001b[0m\u001b[0;34m\u001b[0m\u001b[0m\n\u001b[1;32m    173\u001b[0m \u001b[0;34m\u001b[0m\u001b[0m\n\u001b[0;32m--> 174\u001b[0;31m     \u001b[0m_moveToNewPosition\u001b[0m\u001b[0;34m(\u001b[0m\u001b[0mending_point\u001b[0m\u001b[0;34m)\u001b[0m\u001b[0;34m\u001b[0m\u001b[0;34m\u001b[0m\u001b[0m\n\u001b[0m\u001b[1;32m    175\u001b[0m \u001b[0;34m\u001b[0m\u001b[0m\n\u001b[1;32m    176\u001b[0m \u001b[0mfd\u001b[0m \u001b[0;34m=\u001b[0m \u001b[0mforward\u001b[0m \u001b[0;31m# alias\u001b[0m\u001b[0;34m\u001b[0m\u001b[0;34m\u001b[0m\u001b[0m\n",
            "\u001b[0;32m/usr/local/lib/python3.10/dist-packages/ColabTurtle/Turtle.py\u001b[0m in \u001b[0;36m_moveToNewPosition\u001b[0;34m(new_pos)\u001b[0m\n\u001b[1;32m    161\u001b[0m \u001b[0;34m\u001b[0m\u001b[0m\n\u001b[1;32m    162\u001b[0m     \u001b[0mturtle_pos\u001b[0m \u001b[0;34m=\u001b[0m \u001b[0mnew_pos\u001b[0m\u001b[0;34m\u001b[0m\u001b[0;34m\u001b[0m\u001b[0m\n\u001b[0;32m--> 163\u001b[0;31m     \u001b[0m_updateDrawing\u001b[0m\u001b[0;34m(\u001b[0m\u001b[0;34m)\u001b[0m\u001b[0;34m\u001b[0m\u001b[0;34m\u001b[0m\u001b[0m\n\u001b[0m\u001b[1;32m    164\u001b[0m \u001b[0;34m\u001b[0m\u001b[0m\n\u001b[1;32m    165\u001b[0m \u001b[0;34m\u001b[0m\u001b[0m\n",
            "\u001b[0;32m/usr/local/lib/python3.10/dist-packages/ColabTurtle/Turtle.py\u001b[0m in \u001b[0;36m_updateDrawing\u001b[0;34m()\u001b[0m\n\u001b[1;32m    143\u001b[0m     \u001b[0;32mif\u001b[0m \u001b[0mdrawing_window\u001b[0m \u001b[0;34m==\u001b[0m \u001b[0;32mNone\u001b[0m\u001b[0;34m:\u001b[0m\u001b[0;34m\u001b[0m\u001b[0;34m\u001b[0m\u001b[0m\n\u001b[1;32m    144\u001b[0m         \u001b[0;32mraise\u001b[0m \u001b[0mAttributeError\u001b[0m\u001b[0;34m(\u001b[0m\u001b[0;34m\"Display has not been initialized yet. Call initializeTurtle() before using.\"\u001b[0m\u001b[0;34m)\u001b[0m\u001b[0;34m\u001b[0m\u001b[0;34m\u001b[0m\u001b[0m\n\u001b[0;32m--> 145\u001b[0;31m     \u001b[0mtime\u001b[0m\u001b[0;34m.\u001b[0m\u001b[0msleep\u001b[0m\u001b[0;34m(\u001b[0m\u001b[0m_speedToSec\u001b[0m\u001b[0;34m(\u001b[0m\u001b[0mturtle_speed\u001b[0m\u001b[0;34m)\u001b[0m\u001b[0;34m)\u001b[0m\u001b[0;34m\u001b[0m\u001b[0;34m\u001b[0m\u001b[0m\n\u001b[0m\u001b[1;32m    146\u001b[0m     \u001b[0mdrawing_window\u001b[0m\u001b[0;34m.\u001b[0m\u001b[0mupdate\u001b[0m\u001b[0;34m(\u001b[0m\u001b[0mHTML\u001b[0m\u001b[0;34m(\u001b[0m\u001b[0m_generateSvgDrawing\u001b[0m\u001b[0;34m(\u001b[0m\u001b[0;34m)\u001b[0m\u001b[0;34m)\u001b[0m\u001b[0;34m)\u001b[0m\u001b[0;34m\u001b[0m\u001b[0;34m\u001b[0m\u001b[0m\n\u001b[1;32m    147\u001b[0m \u001b[0;34m\u001b[0m\u001b[0m\n",
            "\u001b[0;31mKeyboardInterrupt\u001b[0m: "
          ]
        }
      ]
    },
    {
      "cell_type": "code",
      "source": [
        " #Nos permite inicializar una pantalla sobre la que vamos a dibujar\n",
        "initializeTurtle()\n",
        "bgcolor('purple')"
      ],
      "metadata": {
        "colab": {
          "base_uri": "https://localhost:8080/",
          "height": 542
        },
        "id": "eFPVNdHLDC2W",
        "outputId": "ebcfac24-4680-4e5c-8bd7-e24ced467a3b"
      },
      "execution_count": null,
      "outputs": [
        {
          "output_type": "display_data",
          "data": {
            "text/plain": [
              "<IPython.core.display.HTML object>"
            ],
            "text/html": [
              "\n",
              "      <svg width=\"800\" height=\"500\">\n",
              "        <rect width=\"100%\" height=\"100%\" fill=\"purple\"/>\n",
              "        \n",
              "        <g visibility=visible transform=\"rotate(360,400,250) translate(382, 232)\">\n",
              "<path style=\" stroke:none;fill-rule:evenodd;fill:white;fill-opacity:1;\" d=\"M 18.214844 0.632812 C 16.109375 1.800781 15.011719 4.074219 15.074219 7.132812 L 15.085938 7.652344 L 14.785156 7.496094 C 13.476562 6.824219 11.957031 6.671875 10.40625 7.066406 C 8.46875 7.550781 6.515625 9.15625 4.394531 11.992188 C 3.0625 13.777344 2.679688 14.636719 3.042969 15.027344 L 3.15625 15.152344 L 3.519531 15.152344 C 4.238281 15.152344 4.828125 14.886719 8.1875 13.039062 C 9.386719 12.378906 10.371094 11.839844 10.378906 11.839844 C 10.386719 11.839844 10.355469 11.929688 10.304688 12.035156 C 9.832031 13.09375 9.257812 14.820312 8.96875 16.078125 C 7.914062 20.652344 8.617188 24.53125 11.070312 27.660156 C 11.351562 28.015625 11.363281 27.914062 10.972656 28.382812 C 8.925781 30.84375 7.945312 33.28125 8.238281 35.1875 C 8.289062 35.527344 8.28125 35.523438 8.917969 35.523438 C 10.941406 35.523438 13.074219 34.207031 15.136719 31.6875 C 15.359375 31.417969 15.328125 31.425781 15.5625 31.574219 C 16.292969 32.042969 18.023438 32.964844 18.175781 32.964844 C 18.335938 32.964844 19.941406 32.210938 20.828125 31.71875 C 20.996094 31.625 21.136719 31.554688 21.136719 31.558594 C 21.203125 31.664062 21.898438 32.414062 22.222656 32.730469 C 23.835938 34.300781 25.5625 35.132812 27.582031 35.300781 C 27.90625 35.328125 27.9375 35.308594 28.007812 34.984375 C 28.382812 33.242188 27.625 30.925781 25.863281 28.425781 L 25.542969 27.96875 L 25.699219 27.785156 C 28.945312 23.960938 29.132812 18.699219 26.257812 11.96875 L 26.207031 11.84375 L 27.945312 12.703125 C 31.53125 14.476562 32.316406 14.800781 33.03125 14.800781 C 33.976562 14.800781 33.78125 13.9375 32.472656 12.292969 C 28.519531 7.355469 25.394531 5.925781 21.921875 7.472656 L 21.558594 7.636719 L 21.578125 7.542969 C 21.699219 6.992188 21.761719 5.742188 21.699219 5.164062 C 21.496094 3.296875 20.664062 1.964844 19.003906 0.855469 C 18.480469 0.503906 18.457031 0.5 18.214844 0.632812\"/>\n",
              "</g>\n",
              "      </svg>\n",
              "    "
            ]
          },
          "metadata": {}
        }
      ]
    },
    {
      "cell_type": "markdown",
      "source": [
        "**left() :** Permite que la tortuga gire a la izquierda. Recibe valores de tipo **int**, los cualos son los grados. \\\\\n",
        "**right() :** Gira a la derecha \\\\\n",
        "**forward() :** Instriccion para que la tortuga avance"
      ],
      "metadata": {
        "id": "Na5eduD0DpVF"
      }
    },
    {
      "cell_type": "code",
      "source": [
        "initializeTurtle(initial_speed=5)\n",
        "forward(100)\n",
        "left(90)\n",
        "forward(200)\n",
        "right(45)\n",
        "forward(50)\n",
        "pencolor('green')\n",
        "left(100)\n",
        "forward(70)\n",
        "pencolor('blue')\n",
        "width(5)\n",
        "forward(50)"
      ],
      "metadata": {
        "colab": {
          "base_uri": "https://localhost:8080/",
          "height": 542
        },
        "id": "RxpJK6TnEBVN",
        "outputId": "8c9ee688-e37c-4253-d281-dbfd37c0f152"
      },
      "execution_count": null,
      "outputs": [
        {
          "output_type": "display_data",
          "data": {
            "text/plain": [
              "<IPython.core.display.HTML object>"
            ],
            "text/html": [
              "\n",
              "      <svg width=\"800\" height=\"500\">\n",
              "        <rect width=\"100%\" height=\"100%\" fill=\"black\"/>\n",
              "        <line x1=\"400\" y1=\"250\" x2=\"400.0\" y2=\"150.0\" stroke-linecap=\"round\" style=\"stroke:white;stroke-width:4\"/><line x1=\"400.0\" y1=\"150.0\" x2=\"200.0\" y2=\"150.0\" stroke-linecap=\"round\" style=\"stroke:white;stroke-width:4\"/><line x1=\"200.0\" y1=\"150.0\" x2=\"164.645\" y2=\"114.645\" stroke-linecap=\"round\" style=\"stroke:white;stroke-width:4\"/><line x1=\"164.645\" y1=\"114.645\" x2=\"124.495\" y2=\"171.986\" stroke-linecap=\"round\" style=\"stroke:green;stroke-width:4\"/><line x1=\"124.495\" y1=\"171.986\" x2=\"95.816\" y2=\"212.944\" stroke-linecap=\"round\" style=\"stroke:blue;stroke-width:5\"/>\n",
              "        <g visibility=visible transform=\"rotate(215,95.816,212.944) translate(77.816, 194.944)\">\n",
              "<path style=\" stroke:none;fill-rule:evenodd;fill:blue;fill-opacity:1;\" d=\"M 18.214844 0.632812 C 16.109375 1.800781 15.011719 4.074219 15.074219 7.132812 L 15.085938 7.652344 L 14.785156 7.496094 C 13.476562 6.824219 11.957031 6.671875 10.40625 7.066406 C 8.46875 7.550781 6.515625 9.15625 4.394531 11.992188 C 3.0625 13.777344 2.679688 14.636719 3.042969 15.027344 L 3.15625 15.152344 L 3.519531 15.152344 C 4.238281 15.152344 4.828125 14.886719 8.1875 13.039062 C 9.386719 12.378906 10.371094 11.839844 10.378906 11.839844 C 10.386719 11.839844 10.355469 11.929688 10.304688 12.035156 C 9.832031 13.09375 9.257812 14.820312 8.96875 16.078125 C 7.914062 20.652344 8.617188 24.53125 11.070312 27.660156 C 11.351562 28.015625 11.363281 27.914062 10.972656 28.382812 C 8.925781 30.84375 7.945312 33.28125 8.238281 35.1875 C 8.289062 35.527344 8.28125 35.523438 8.917969 35.523438 C 10.941406 35.523438 13.074219 34.207031 15.136719 31.6875 C 15.359375 31.417969 15.328125 31.425781 15.5625 31.574219 C 16.292969 32.042969 18.023438 32.964844 18.175781 32.964844 C 18.335938 32.964844 19.941406 32.210938 20.828125 31.71875 C 20.996094 31.625 21.136719 31.554688 21.136719 31.558594 C 21.203125 31.664062 21.898438 32.414062 22.222656 32.730469 C 23.835938 34.300781 25.5625 35.132812 27.582031 35.300781 C 27.90625 35.328125 27.9375 35.308594 28.007812 34.984375 C 28.382812 33.242188 27.625 30.925781 25.863281 28.425781 L 25.542969 27.96875 L 25.699219 27.785156 C 28.945312 23.960938 29.132812 18.699219 26.257812 11.96875 L 26.207031 11.84375 L 27.945312 12.703125 C 31.53125 14.476562 32.316406 14.800781 33.03125 14.800781 C 33.976562 14.800781 33.78125 13.9375 32.472656 12.292969 C 28.519531 7.355469 25.394531 5.925781 21.921875 7.472656 L 21.558594 7.636719 L 21.578125 7.542969 C 21.699219 6.992188 21.761719 5.742188 21.699219 5.164062 C 21.496094 3.296875 20.664062 1.964844 19.003906 0.855469 C 18.480469 0.503906 18.457031 0.5 18.214844 0.632812\"/>\n",
              "</g>\n",
              "      </svg>\n",
              "    "
            ]
          },
          "metadata": {}
        }
      ]
    },
    {
      "cell_type": "markdown",
      "source": [
        "#Triangulo"
      ],
      "metadata": {
        "id": "Yww0yleAFVcI"
      }
    },
    {
      "cell_type": "code",
      "source": [
        "initializeTurtle()\n",
        "pencolor('purple')\n",
        "forward(200)\n",
        "left(120)\n",
        "forward(200)\n",
        "left(120)\n",
        "forward(200)"
      ],
      "metadata": {
        "colab": {
          "base_uri": "https://localhost:8080/",
          "height": 542
        },
        "id": "t17iwYKCEGt7",
        "outputId": "bc6b3fc9-3a69-4420-dfc9-80540489ba3b"
      },
      "execution_count": null,
      "outputs": [
        {
          "output_type": "display_data",
          "data": {
            "text/plain": [
              "<IPython.core.display.HTML object>"
            ],
            "text/html": [
              "\n",
              "      <svg width=\"800\" height=\"500\">\n",
              "        <rect width=\"100%\" height=\"100%\" fill=\"black\"/>\n",
              "        <line x1=\"400\" y1=\"250\" x2=\"400.0\" y2=\"50.0\" stroke-linecap=\"round\" style=\"stroke:purple;stroke-width:4\"/><line x1=\"400.0\" y1=\"50.0\" x2=\"226.795\" y2=\"150.0\" stroke-linecap=\"round\" style=\"stroke:purple;stroke-width:4\"/><line x1=\"226.795\" y1=\"150.0\" x2=\"400.0\" y2=\"250.0\" stroke-linecap=\"round\" style=\"stroke:purple;stroke-width:4\"/>\n",
              "        <g visibility=visible transform=\"rotate(120,400.0,250.0) translate(382.0, 232.0)\">\n",
              "<path style=\" stroke:none;fill-rule:evenodd;fill:purple;fill-opacity:1;\" d=\"M 18.214844 0.632812 C 16.109375 1.800781 15.011719 4.074219 15.074219 7.132812 L 15.085938 7.652344 L 14.785156 7.496094 C 13.476562 6.824219 11.957031 6.671875 10.40625 7.066406 C 8.46875 7.550781 6.515625 9.15625 4.394531 11.992188 C 3.0625 13.777344 2.679688 14.636719 3.042969 15.027344 L 3.15625 15.152344 L 3.519531 15.152344 C 4.238281 15.152344 4.828125 14.886719 8.1875 13.039062 C 9.386719 12.378906 10.371094 11.839844 10.378906 11.839844 C 10.386719 11.839844 10.355469 11.929688 10.304688 12.035156 C 9.832031 13.09375 9.257812 14.820312 8.96875 16.078125 C 7.914062 20.652344 8.617188 24.53125 11.070312 27.660156 C 11.351562 28.015625 11.363281 27.914062 10.972656 28.382812 C 8.925781 30.84375 7.945312 33.28125 8.238281 35.1875 C 8.289062 35.527344 8.28125 35.523438 8.917969 35.523438 C 10.941406 35.523438 13.074219 34.207031 15.136719 31.6875 C 15.359375 31.417969 15.328125 31.425781 15.5625 31.574219 C 16.292969 32.042969 18.023438 32.964844 18.175781 32.964844 C 18.335938 32.964844 19.941406 32.210938 20.828125 31.71875 C 20.996094 31.625 21.136719 31.554688 21.136719 31.558594 C 21.203125 31.664062 21.898438 32.414062 22.222656 32.730469 C 23.835938 34.300781 25.5625 35.132812 27.582031 35.300781 C 27.90625 35.328125 27.9375 35.308594 28.007812 34.984375 C 28.382812 33.242188 27.625 30.925781 25.863281 28.425781 L 25.542969 27.96875 L 25.699219 27.785156 C 28.945312 23.960938 29.132812 18.699219 26.257812 11.96875 L 26.207031 11.84375 L 27.945312 12.703125 C 31.53125 14.476562 32.316406 14.800781 33.03125 14.800781 C 33.976562 14.800781 33.78125 13.9375 32.472656 12.292969 C 28.519531 7.355469 25.394531 5.925781 21.921875 7.472656 L 21.558594 7.636719 L 21.578125 7.542969 C 21.699219 6.992188 21.761719 5.742188 21.699219 5.164062 C 21.496094 3.296875 20.664062 1.964844 19.003906 0.855469 C 18.480469 0.503906 18.457031 0.5 18.214844 0.632812\"/>\n",
              "</g>\n",
              "      </svg>\n",
              "    "
            ]
          },
          "metadata": {}
        }
      ]
    },
    {
      "cell_type": "markdown",
      "source": [
        "#Cuadrado"
      ],
      "metadata": {
        "id": "Hw9lGsGvHhoC"
      }
    },
    {
      "cell_type": "code",
      "source": [
        "initializeTurtle()\n",
        "pencolor('pink')\n",
        "\n",
        "for i in range(1,5):\n",
        "  forward(200)\n",
        "  left(90)\n",
        "\n"
      ],
      "metadata": {
        "colab": {
          "base_uri": "https://localhost:8080/",
          "height": 542
        },
        "id": "61WCLnzxFZ_d",
        "outputId": "6410a7f1-f298-4cba-e249-8adb6b19f218"
      },
      "execution_count": null,
      "outputs": [
        {
          "output_type": "display_data",
          "data": {
            "text/plain": [
              "<IPython.core.display.HTML object>"
            ],
            "text/html": [
              "\n",
              "      <svg width=\"800\" height=\"500\">\n",
              "        <rect width=\"100%\" height=\"100%\" fill=\"black\"/>\n",
              "        <line x1=\"400\" y1=\"250\" x2=\"400.0\" y2=\"50.0\" stroke-linecap=\"round\" style=\"stroke:pink;stroke-width:4\"/><line x1=\"400.0\" y1=\"50.0\" x2=\"200.0\" y2=\"50.0\" stroke-linecap=\"round\" style=\"stroke:pink;stroke-width:4\"/><line x1=\"200.0\" y1=\"50.0\" x2=\"200.0\" y2=\"250.0\" stroke-linecap=\"round\" style=\"stroke:pink;stroke-width:4\"/><line x1=\"200.0\" y1=\"250.0\" x2=\"400.0\" y2=\"250.0\" stroke-linecap=\"round\" style=\"stroke:pink;stroke-width:4\"/>\n",
              "        <g visibility=visible transform=\"rotate(360,400.0,250.0) translate(382.0, 232.0)\">\n",
              "<path style=\" stroke:none;fill-rule:evenodd;fill:pink;fill-opacity:1;\" d=\"M 18.214844 0.632812 C 16.109375 1.800781 15.011719 4.074219 15.074219 7.132812 L 15.085938 7.652344 L 14.785156 7.496094 C 13.476562 6.824219 11.957031 6.671875 10.40625 7.066406 C 8.46875 7.550781 6.515625 9.15625 4.394531 11.992188 C 3.0625 13.777344 2.679688 14.636719 3.042969 15.027344 L 3.15625 15.152344 L 3.519531 15.152344 C 4.238281 15.152344 4.828125 14.886719 8.1875 13.039062 C 9.386719 12.378906 10.371094 11.839844 10.378906 11.839844 C 10.386719 11.839844 10.355469 11.929688 10.304688 12.035156 C 9.832031 13.09375 9.257812 14.820312 8.96875 16.078125 C 7.914062 20.652344 8.617188 24.53125 11.070312 27.660156 C 11.351562 28.015625 11.363281 27.914062 10.972656 28.382812 C 8.925781 30.84375 7.945312 33.28125 8.238281 35.1875 C 8.289062 35.527344 8.28125 35.523438 8.917969 35.523438 C 10.941406 35.523438 13.074219 34.207031 15.136719 31.6875 C 15.359375 31.417969 15.328125 31.425781 15.5625 31.574219 C 16.292969 32.042969 18.023438 32.964844 18.175781 32.964844 C 18.335938 32.964844 19.941406 32.210938 20.828125 31.71875 C 20.996094 31.625 21.136719 31.554688 21.136719 31.558594 C 21.203125 31.664062 21.898438 32.414062 22.222656 32.730469 C 23.835938 34.300781 25.5625 35.132812 27.582031 35.300781 C 27.90625 35.328125 27.9375 35.308594 28.007812 34.984375 C 28.382812 33.242188 27.625 30.925781 25.863281 28.425781 L 25.542969 27.96875 L 25.699219 27.785156 C 28.945312 23.960938 29.132812 18.699219 26.257812 11.96875 L 26.207031 11.84375 L 27.945312 12.703125 C 31.53125 14.476562 32.316406 14.800781 33.03125 14.800781 C 33.976562 14.800781 33.78125 13.9375 32.472656 12.292969 C 28.519531 7.355469 25.394531 5.925781 21.921875 7.472656 L 21.558594 7.636719 L 21.578125 7.542969 C 21.699219 6.992188 21.761719 5.742188 21.699219 5.164062 C 21.496094 3.296875 20.664062 1.964844 19.003906 0.855469 C 18.480469 0.503906 18.457031 0.5 18.214844 0.632812\"/>\n",
              "</g>\n",
              "      </svg>\n",
              "    "
            ]
          },
          "metadata": {}
        }
      ]
    },
    {
      "cell_type": "code",
      "source": [
        "initializeTurtle(initial_speed=5)\n",
        "pencolor('purple')\n",
        "lados = int(input('Digite el numero de lados de la figura '))\n",
        "#pencolor(colors_list[lados])\n",
        "\n",
        "if lados < 3:\n",
        "  print('Error')\n",
        "\n",
        "else :\n",
        "  theta=360/lados\n",
        "  for i in range(lados):\n",
        "    forward(100)\n",
        "    left(theta)"
      ],
      "metadata": {
        "colab": {
          "base_uri": "https://localhost:8080/",
          "height": 561
        },
        "id": "_gQPvmkVHtks",
        "outputId": "cca4cb21-b028-4275-f62d-dfbec664b953"
      },
      "execution_count": null,
      "outputs": [
        {
          "output_type": "display_data",
          "data": {
            "text/plain": [
              "<IPython.core.display.HTML object>"
            ],
            "text/html": [
              "\n",
              "      <svg width=\"800\" height=\"500\">\n",
              "        <rect width=\"100%\" height=\"100%\" fill=\"black\"/>\n",
              "        <line x1=\"400\" y1=\"250\" x2=\"400.0\" y2=\"150.0\" stroke-linecap=\"round\" style=\"stroke:purple;stroke-width:4\"/><line x1=\"400.0\" y1=\"150.0\" x2=\"300.0\" y2=\"150.0\" stroke-linecap=\"round\" style=\"stroke:purple;stroke-width:4\"/><line x1=\"300.0\" y1=\"150.0\" x2=\"300.0\" y2=\"250.0\" stroke-linecap=\"round\" style=\"stroke:purple;stroke-width:4\"/><line x1=\"300.0\" y1=\"250.0\" x2=\"400.0\" y2=\"250.0\" stroke-linecap=\"round\" style=\"stroke:purple;stroke-width:4\"/>\n",
              "        <g visibility=visible transform=\"rotate(360.0,400.0,250.0) translate(382.0, 232.0)\">\n",
              "<path style=\" stroke:none;fill-rule:evenodd;fill:purple;fill-opacity:1;\" d=\"M 18.214844 0.632812 C 16.109375 1.800781 15.011719 4.074219 15.074219 7.132812 L 15.085938 7.652344 L 14.785156 7.496094 C 13.476562 6.824219 11.957031 6.671875 10.40625 7.066406 C 8.46875 7.550781 6.515625 9.15625 4.394531 11.992188 C 3.0625 13.777344 2.679688 14.636719 3.042969 15.027344 L 3.15625 15.152344 L 3.519531 15.152344 C 4.238281 15.152344 4.828125 14.886719 8.1875 13.039062 C 9.386719 12.378906 10.371094 11.839844 10.378906 11.839844 C 10.386719 11.839844 10.355469 11.929688 10.304688 12.035156 C 9.832031 13.09375 9.257812 14.820312 8.96875 16.078125 C 7.914062 20.652344 8.617188 24.53125 11.070312 27.660156 C 11.351562 28.015625 11.363281 27.914062 10.972656 28.382812 C 8.925781 30.84375 7.945312 33.28125 8.238281 35.1875 C 8.289062 35.527344 8.28125 35.523438 8.917969 35.523438 C 10.941406 35.523438 13.074219 34.207031 15.136719 31.6875 C 15.359375 31.417969 15.328125 31.425781 15.5625 31.574219 C 16.292969 32.042969 18.023438 32.964844 18.175781 32.964844 C 18.335938 32.964844 19.941406 32.210938 20.828125 31.71875 C 20.996094 31.625 21.136719 31.554688 21.136719 31.558594 C 21.203125 31.664062 21.898438 32.414062 22.222656 32.730469 C 23.835938 34.300781 25.5625 35.132812 27.582031 35.300781 C 27.90625 35.328125 27.9375 35.308594 28.007812 34.984375 C 28.382812 33.242188 27.625 30.925781 25.863281 28.425781 L 25.542969 27.96875 L 25.699219 27.785156 C 28.945312 23.960938 29.132812 18.699219 26.257812 11.96875 L 26.207031 11.84375 L 27.945312 12.703125 C 31.53125 14.476562 32.316406 14.800781 33.03125 14.800781 C 33.976562 14.800781 33.78125 13.9375 32.472656 12.292969 C 28.519531 7.355469 25.394531 5.925781 21.921875 7.472656 L 21.558594 7.636719 L 21.578125 7.542969 C 21.699219 6.992188 21.761719 5.742188 21.699219 5.164062 C 21.496094 3.296875 20.664062 1.964844 19.003906 0.855469 C 18.480469 0.503906 18.457031 0.5 18.214844 0.632812\"/>\n",
              "</g>\n",
              "      </svg>\n",
              "    "
            ]
          },
          "metadata": {}
        },
        {
          "name": "stdout",
          "output_type": "stream",
          "text": [
            "Digite el numero de lados de la figura 4\n"
          ]
        }
      ]
    },
    {
      "cell_type": "code",
      "source": [
        "lados = int(input('Digite el numero de lados de la figura '))\n",
        "initializeTurtle(initial_speed=10)\n",
        "#pencolor(colors_list[lados])\n",
        "\n",
        "if lados < 3:\n",
        "  print('Error')\n",
        "\n",
        "else :\n",
        "  theta=360/lados\n",
        "  for i in range(lados):\n",
        "    pencolor(colors_list[lados%6])\n",
        "    forward(150)\n",
        "    left(theta)\n",
        "    for j in range(lados):\n",
        "      pencolor(colors_list[lados%6])\n",
        "      forward(100)\n",
        "      left(theta)\n",
        "      for k in range(lados):\n",
        "        pencolor(colors_list[lados%6])\n",
        "        forward(50)\n",
        "        left(theta)"
      ],
      "metadata": {
        "colab": {
          "base_uri": "https://localhost:8080/",
          "height": 561
        },
        "id": "gphPbelkPg6G",
        "outputId": "0c0a2ee6-9cf1-4943-a12c-befeba21a63b"
      },
      "execution_count": 96,
      "outputs": [
        {
          "name": "stdout",
          "output_type": "stream",
          "text": [
            "Digite el numero de lados de la figura 3\n"
          ]
        },
        {
          "output_type": "display_data",
          "data": {
            "text/plain": [
              "<IPython.core.display.HTML object>"
            ],
            "text/html": [
              "\n",
              "      <svg width=\"800\" height=\"500\">\n",
              "        <rect width=\"100%\" height=\"100%\" fill=\"black\"/>\n",
              "        <line x1=\"400\" y1=\"250\" x2=\"400.0\" y2=\"100.0\" stroke-linecap=\"round\" style=\"stroke:green;stroke-width:4\"/><line x1=\"400.0\" y1=\"100.0\" x2=\"313.397\" y2=\"150.0\" stroke-linecap=\"round\" style=\"stroke:green;stroke-width:4\"/><line x1=\"313.397\" y1=\"150.0\" x2=\"356.698\" y2=\"175.0\" stroke-linecap=\"round\" style=\"stroke:green;stroke-width:4\"/><line x1=\"356.698\" y1=\"175.0\" x2=\"356.698\" y2=\"125.0\" stroke-linecap=\"round\" style=\"stroke:green;stroke-width:4\"/><line x1=\"356.698\" y1=\"125.0\" x2=\"313.397\" y2=\"150.0\" stroke-linecap=\"round\" style=\"stroke:green;stroke-width:4\"/><line x1=\"313.397\" y1=\"150.0\" x2=\"400.0\" y2=\"200.0\" stroke-linecap=\"round\" style=\"stroke:green;stroke-width:4\"/><line x1=\"400.0\" y1=\"200.0\" x2=\"400.0\" y2=\"150.0\" stroke-linecap=\"round\" style=\"stroke:green;stroke-width:4\"/><line x1=\"400.0\" y1=\"150.0\" x2=\"356.699\" y2=\"175.0\" stroke-linecap=\"round\" style=\"stroke:green;stroke-width:4\"/><line x1=\"356.699\" y1=\"175.0\" x2=\"400.0\" y2=\"200.0\" stroke-linecap=\"round\" style=\"stroke:green;stroke-width:4\"/><line x1=\"400.0\" y1=\"200.0\" x2=\"400.0\" y2=\"100.0\" stroke-linecap=\"round\" style=\"stroke:green;stroke-width:4\"/><line x1=\"400.0\" y1=\"100.0\" x2=\"356.699\" y2=\"125.0\" stroke-linecap=\"round\" style=\"stroke:green;stroke-width:4\"/><line x1=\"356.699\" y1=\"125.0\" x2=\"400.0\" y2=\"150.0\" stroke-linecap=\"round\" style=\"stroke:green;stroke-width:4\"/><line x1=\"400.0\" y1=\"150.0\" x2=\"400.0\" y2=\"100.0\" stroke-linecap=\"round\" style=\"stroke:green;stroke-width:4\"/><line x1=\"400.0\" y1=\"100.0\" x2=\"270.096\" y2=\"175.0\" stroke-linecap=\"round\" style=\"stroke:green;stroke-width:4\"/><line x1=\"270.096\" y1=\"175.0\" x2=\"356.699\" y2=\"225.0\" stroke-linecap=\"round\" style=\"stroke:green;stroke-width:4\"/><line x1=\"356.699\" y1=\"225.0\" x2=\"356.699\" y2=\"175.0\" stroke-linecap=\"round\" style=\"stroke:green;stroke-width:4\"/><line x1=\"356.699\" y1=\"175.0\" x2=\"313.398\" y2=\"200.0\" stroke-linecap=\"round\" style=\"stroke:green;stroke-width:4\"/><line x1=\"313.398\" y1=\"200.0\" x2=\"356.699\" y2=\"225.0\" stroke-linecap=\"round\" style=\"stroke:green;stroke-width:4\"/><line x1=\"356.699\" y1=\"225.0\" x2=\"356.699\" y2=\"125.0\" stroke-linecap=\"round\" style=\"stroke:green;stroke-width:4\"/><line x1=\"356.699\" y1=\"125.0\" x2=\"313.398\" y2=\"150.0\" stroke-linecap=\"round\" style=\"stroke:green;stroke-width:4\"/><line x1=\"313.398\" y1=\"150.0\" x2=\"356.699\" y2=\"175.0\" stroke-linecap=\"round\" style=\"stroke:green;stroke-width:4\"/><line x1=\"356.699\" y1=\"175.0\" x2=\"356.699\" y2=\"125.0\" stroke-linecap=\"round\" style=\"stroke:green;stroke-width:4\"/><line x1=\"356.699\" y1=\"125.0\" x2=\"270.096\" y2=\"175.0\" stroke-linecap=\"round\" style=\"stroke:green;stroke-width:4\"/><line x1=\"270.096\" y1=\"175.0\" x2=\"313.397\" y2=\"200.0\" stroke-linecap=\"round\" style=\"stroke:green;stroke-width:4\"/><line x1=\"313.397\" y1=\"200.0\" x2=\"313.397\" y2=\"150.0\" stroke-linecap=\"round\" style=\"stroke:green;stroke-width:4\"/><line x1=\"313.397\" y1=\"150.0\" x2=\"270.096\" y2=\"175.0\" stroke-linecap=\"round\" style=\"stroke:green;stroke-width:4\"/><line x1=\"270.096\" y1=\"175.0\" x2=\"400.0\" y2=\"250.0\" stroke-linecap=\"round\" style=\"stroke:green;stroke-width:4\"/><line x1=\"400.0\" y1=\"250.0\" x2=\"400.0\" y2=\"150.0\" stroke-linecap=\"round\" style=\"stroke:green;stroke-width:4\"/><line x1=\"400.0\" y1=\"150.0\" x2=\"356.699\" y2=\"175.0\" stroke-linecap=\"round\" style=\"stroke:green;stroke-width:4\"/><line x1=\"356.699\" y1=\"175.0\" x2=\"400.0\" y2=\"200.0\" stroke-linecap=\"round\" style=\"stroke:green;stroke-width:4\"/><line x1=\"400.0\" y1=\"200.0\" x2=\"400.0\" y2=\"150.0\" stroke-linecap=\"round\" style=\"stroke:green;stroke-width:4\"/><line x1=\"400.0\" y1=\"150.0\" x2=\"313.397\" y2=\"200.0\" stroke-linecap=\"round\" style=\"stroke:green;stroke-width:4\"/><line x1=\"313.397\" y1=\"200.0\" x2=\"356.698\" y2=\"225.0\" stroke-linecap=\"round\" style=\"stroke:green;stroke-width:4\"/><line x1=\"356.698\" y1=\"225.0\" x2=\"356.698\" y2=\"175.0\" stroke-linecap=\"round\" style=\"stroke:green;stroke-width:4\"/><line x1=\"356.698\" y1=\"175.0\" x2=\"313.397\" y2=\"200.0\" stroke-linecap=\"round\" style=\"stroke:green;stroke-width:4\"/><line x1=\"313.397\" y1=\"200.0\" x2=\"400.0\" y2=\"250.0\" stroke-linecap=\"round\" style=\"stroke:green;stroke-width:4\"/><line x1=\"400.0\" y1=\"250.0\" x2=\"400.0\" y2=\"200.0\" stroke-linecap=\"round\" style=\"stroke:green;stroke-width:4\"/><line x1=\"400.0\" y1=\"200.0\" x2=\"356.699\" y2=\"225.0\" stroke-linecap=\"round\" style=\"stroke:green;stroke-width:4\"/><line x1=\"356.699\" y1=\"225.0\" x2=\"400.0\" y2=\"250.0\" stroke-linecap=\"round\" style=\"stroke:green;stroke-width:4\"/>\n",
              "        <g visibility=visible transform=\"rotate(360.0,400.0,250.0) translate(382.0, 232.0)\">\n",
              "<path style=\" stroke:none;fill-rule:evenodd;fill:green;fill-opacity:1;\" d=\"M 18.214844 0.632812 C 16.109375 1.800781 15.011719 4.074219 15.074219 7.132812 L 15.085938 7.652344 L 14.785156 7.496094 C 13.476562 6.824219 11.957031 6.671875 10.40625 7.066406 C 8.46875 7.550781 6.515625 9.15625 4.394531 11.992188 C 3.0625 13.777344 2.679688 14.636719 3.042969 15.027344 L 3.15625 15.152344 L 3.519531 15.152344 C 4.238281 15.152344 4.828125 14.886719 8.1875 13.039062 C 9.386719 12.378906 10.371094 11.839844 10.378906 11.839844 C 10.386719 11.839844 10.355469 11.929688 10.304688 12.035156 C 9.832031 13.09375 9.257812 14.820312 8.96875 16.078125 C 7.914062 20.652344 8.617188 24.53125 11.070312 27.660156 C 11.351562 28.015625 11.363281 27.914062 10.972656 28.382812 C 8.925781 30.84375 7.945312 33.28125 8.238281 35.1875 C 8.289062 35.527344 8.28125 35.523438 8.917969 35.523438 C 10.941406 35.523438 13.074219 34.207031 15.136719 31.6875 C 15.359375 31.417969 15.328125 31.425781 15.5625 31.574219 C 16.292969 32.042969 18.023438 32.964844 18.175781 32.964844 C 18.335938 32.964844 19.941406 32.210938 20.828125 31.71875 C 20.996094 31.625 21.136719 31.554688 21.136719 31.558594 C 21.203125 31.664062 21.898438 32.414062 22.222656 32.730469 C 23.835938 34.300781 25.5625 35.132812 27.582031 35.300781 C 27.90625 35.328125 27.9375 35.308594 28.007812 34.984375 C 28.382812 33.242188 27.625 30.925781 25.863281 28.425781 L 25.542969 27.96875 L 25.699219 27.785156 C 28.945312 23.960938 29.132812 18.699219 26.257812 11.96875 L 26.207031 11.84375 L 27.945312 12.703125 C 31.53125 14.476562 32.316406 14.800781 33.03125 14.800781 C 33.976562 14.800781 33.78125 13.9375 32.472656 12.292969 C 28.519531 7.355469 25.394531 5.925781 21.921875 7.472656 L 21.558594 7.636719 L 21.578125 7.542969 C 21.699219 6.992188 21.761719 5.742188 21.699219 5.164062 C 21.496094 3.296875 20.664062 1.964844 19.003906 0.855469 C 18.480469 0.503906 18.457031 0.5 18.214844 0.632812\"/>\n",
              "</g>\n",
              "      </svg>\n",
              "    "
            ]
          },
          "metadata": {}
        }
      ]
    },
    {
      "cell_type": "code",
      "source": [
        "lados = int(input('Digite el numero de lados de la figura '))\n",
        "initializeTurtle(initial_speed=10)\n",
        "#pencolor(colors_list[lados])\n",
        "\n",
        "if lados < 3:\n",
        "  print('Error')\n",
        "\n",
        "else :\n",
        "  theta=360/lados\n",
        "  for i in range(lados):\n",
        "    pencolor(colors_list[lados%6])\n",
        "    forward(100)\n",
        "    left(theta)\n",
        "    for j in range(lados):\n",
        "      pencolor(colors_list[lados%6])\n",
        "      forward(80)\n",
        "      left(theta)\n",
        "      for k in range(lados):\n",
        "        pencolor(colors_list[lados%6])\n",
        "        forward(60)\n",
        "        left(theta)\n",
        ""
      ],
      "metadata": {
        "id": "vXaleiX9OBfG",
        "colab": {
          "base_uri": "https://localhost:8080/",
          "height": 561
        },
        "outputId": "50390f4e-ef1e-4be0-cd18-492c59ee7dce"
      },
      "execution_count": 116,
      "outputs": [
        {
          "name": "stdout",
          "output_type": "stream",
          "text": [
            "Digite el numero de lados de la figura 6\n"
          ]
        },
        {
          "output_type": "display_data",
          "data": {
            "text/plain": [
              "<IPython.core.display.HTML object>"
            ],
            "text/html": [
              "\n",
              "      <svg width=\"800\" height=\"500\">\n",
              "        <rect width=\"100%\" height=\"100%\" fill=\"black\"/>\n",
              "        <line x1=\"400\" y1=\"250\" x2=\"400.0\" y2=\"150.0\" stroke-linecap=\"round\" style=\"stroke:red;stroke-width:4\"/><line x1=\"400.0\" y1=\"150.0\" x2=\"330.718\" y2=\"110.0\" stroke-linecap=\"round\" style=\"stroke:red;stroke-width:4\"/><line x1=\"330.718\" y1=\"110.0\" x2=\"278.756\" y2=\"140.0\" stroke-linecap=\"round\" style=\"stroke:red;stroke-width:4\"/><line x1=\"278.756\" y1=\"140.0\" x2=\"278.756\" y2=\"200.0\" stroke-linecap=\"round\" style=\"stroke:red;stroke-width:4\"/><line x1=\"278.756\" y1=\"200.0\" x2=\"330.718\" y2=\"230.0\" stroke-linecap=\"round\" style=\"stroke:red;stroke-width:4\"/><line x1=\"330.718\" y1=\"230.0\" x2=\"382.68\" y2=\"200.0\" stroke-linecap=\"round\" style=\"stroke:red;stroke-width:4\"/><line x1=\"382.68\" y1=\"200.0\" x2=\"382.68\" y2=\"140.0\" stroke-linecap=\"round\" style=\"stroke:red;stroke-width:4\"/><line x1=\"382.68\" y1=\"140.0\" x2=\"330.718\" y2=\"110.0\" stroke-linecap=\"round\" style=\"stroke:red;stroke-width:4\"/><line x1=\"330.718\" y1=\"110.0\" x2=\"261.436\" y2=\"150.0\" stroke-linecap=\"round\" style=\"stroke:red;stroke-width:4\"/><line x1=\"261.436\" y1=\"150.0\" x2=\"261.436\" y2=\"210.0\" stroke-linecap=\"round\" style=\"stroke:red;stroke-width:4\"/><line x1=\"261.436\" y1=\"210.0\" x2=\"313.398\" y2=\"240.0\" stroke-linecap=\"round\" style=\"stroke:red;stroke-width:4\"/><line x1=\"313.398\" y1=\"240.0\" x2=\"365.36\" y2=\"210.0\" stroke-linecap=\"round\" style=\"stroke:red;stroke-width:4\"/><line x1=\"365.36\" y1=\"210.0\" x2=\"365.36\" y2=\"150.0\" stroke-linecap=\"round\" style=\"stroke:red;stroke-width:4\"/><line x1=\"365.36\" y1=\"150.0\" x2=\"313.398\" y2=\"120.0\" stroke-linecap=\"round\" style=\"stroke:red;stroke-width:4\"/><line x1=\"313.398\" y1=\"120.0\" x2=\"261.436\" y2=\"150.0\" stroke-linecap=\"round\" style=\"stroke:red;stroke-width:4\"/><line x1=\"261.436\" y1=\"150.0\" x2=\"261.436\" y2=\"230.0\" stroke-linecap=\"round\" style=\"stroke:red;stroke-width:4\"/><line x1=\"261.436\" y1=\"230.0\" x2=\"313.398\" y2=\"260.0\" stroke-linecap=\"round\" style=\"stroke:red;stroke-width:4\"/><line x1=\"313.398\" y1=\"260.0\" x2=\"365.36\" y2=\"230.0\" stroke-linecap=\"round\" style=\"stroke:red;stroke-width:4\"/><line x1=\"365.36\" y1=\"230.0\" x2=\"365.36\" y2=\"170.0\" stroke-linecap=\"round\" style=\"stroke:red;stroke-width:4\"/><line x1=\"365.36\" y1=\"170.0\" x2=\"313.398\" y2=\"140.0\" stroke-linecap=\"round\" style=\"stroke:red;stroke-width:4\"/><line x1=\"313.398\" y1=\"140.0\" x2=\"261.436\" y2=\"170.0\" stroke-linecap=\"round\" style=\"stroke:red;stroke-width:4\"/><line x1=\"261.436\" y1=\"170.0\" x2=\"261.436\" y2=\"230.0\" stroke-linecap=\"round\" style=\"stroke:red;stroke-width:4\"/><line x1=\"261.436\" y1=\"230.0\" x2=\"330.718\" y2=\"270.0\" stroke-linecap=\"round\" style=\"stroke:red;stroke-width:4\"/><line x1=\"330.718\" y1=\"270.0\" x2=\"382.68\" y2=\"240.0\" stroke-linecap=\"round\" style=\"stroke:red;stroke-width:4\"/><line x1=\"382.68\" y1=\"240.0\" x2=\"382.68\" y2=\"180.0\" stroke-linecap=\"round\" style=\"stroke:red;stroke-width:4\"/><line x1=\"382.68\" y1=\"180.0\" x2=\"330.718\" y2=\"150.0\" stroke-linecap=\"round\" style=\"stroke:red;stroke-width:4\"/><line x1=\"330.718\" y1=\"150.0\" x2=\"278.756\" y2=\"180.0\" stroke-linecap=\"round\" style=\"stroke:red;stroke-width:4\"/><line x1=\"278.756\" y1=\"180.0\" x2=\"278.756\" y2=\"240.0\" stroke-linecap=\"round\" style=\"stroke:red;stroke-width:4\"/><line x1=\"278.756\" y1=\"240.0\" x2=\"330.718\" y2=\"270.0\" stroke-linecap=\"round\" style=\"stroke:red;stroke-width:4\"/><line x1=\"330.718\" y1=\"270.0\" x2=\"400.0\" y2=\"230.0\" stroke-linecap=\"round\" style=\"stroke:red;stroke-width:4\"/><line x1=\"400.0\" y1=\"230.0\" x2=\"400.0\" y2=\"170.0\" stroke-linecap=\"round\" style=\"stroke:red;stroke-width:4\"/><line x1=\"400.0\" y1=\"170.0\" x2=\"348.038\" y2=\"140.0\" stroke-linecap=\"round\" style=\"stroke:red;stroke-width:4\"/><line x1=\"348.038\" y1=\"140.0\" x2=\"296.076\" y2=\"170.0\" stroke-linecap=\"round\" style=\"stroke:red;stroke-width:4\"/><line x1=\"296.076\" y1=\"170.0\" x2=\"296.076\" y2=\"230.0\" stroke-linecap=\"round\" style=\"stroke:red;stroke-width:4\"/><line x1=\"296.076\" y1=\"230.0\" x2=\"348.038\" y2=\"260.0\" stroke-linecap=\"round\" style=\"stroke:red;stroke-width:4\"/><line x1=\"348.038\" y1=\"260.0\" x2=\"400.0\" y2=\"230.0\" stroke-linecap=\"round\" style=\"stroke:red;stroke-width:4\"/><line x1=\"400.0\" y1=\"230.0\" x2=\"400.0\" y2=\"150.0\" stroke-linecap=\"round\" style=\"stroke:red;stroke-width:4\"/><line x1=\"400.0\" y1=\"150.0\" x2=\"348.038\" y2=\"120.0\" stroke-linecap=\"round\" style=\"stroke:red;stroke-width:4\"/><line x1=\"348.038\" y1=\"120.0\" x2=\"296.076\" y2=\"150.0\" stroke-linecap=\"round\" style=\"stroke:red;stroke-width:4\"/><line x1=\"296.076\" y1=\"150.0\" x2=\"296.076\" y2=\"210.0\" stroke-linecap=\"round\" style=\"stroke:red;stroke-width:4\"/><line x1=\"296.076\" y1=\"210.0\" x2=\"348.038\" y2=\"240.0\" stroke-linecap=\"round\" style=\"stroke:red;stroke-width:4\"/><line x1=\"348.038\" y1=\"240.0\" x2=\"400.0\" y2=\"210.0\" stroke-linecap=\"round\" style=\"stroke:red;stroke-width:4\"/><line x1=\"400.0\" y1=\"210.0\" x2=\"400.0\" y2=\"150.0\" stroke-linecap=\"round\" style=\"stroke:red;stroke-width:4\"/><line x1=\"400.0\" y1=\"150.0\" x2=\"313.397\" y2=\"100.0\" stroke-linecap=\"round\" style=\"stroke:red;stroke-width:4\"/><line x1=\"313.397\" y1=\"100.0\" x2=\"244.115\" y2=\"140.0\" stroke-linecap=\"round\" style=\"stroke:red;stroke-width:4\"/><line x1=\"244.115\" y1=\"140.0\" x2=\"244.115\" y2=\"200.0\" stroke-linecap=\"round\" style=\"stroke:red;stroke-width:4\"/><line x1=\"244.115\" y1=\"200.0\" x2=\"296.077\" y2=\"230.0\" stroke-linecap=\"round\" style=\"stroke:red;stroke-width:4\"/><line x1=\"296.077\" y1=\"230.0\" x2=\"348.039\" y2=\"200.0\" stroke-linecap=\"round\" style=\"stroke:red;stroke-width:4\"/><line x1=\"348.039\" y1=\"200.0\" x2=\"348.039\" y2=\"140.0\" stroke-linecap=\"round\" style=\"stroke:red;stroke-width:4\"/><line x1=\"348.039\" y1=\"140.0\" x2=\"296.077\" y2=\"110.0\" stroke-linecap=\"round\" style=\"stroke:red;stroke-width:4\"/><line x1=\"296.077\" y1=\"110.0\" x2=\"244.115\" y2=\"140.0\" stroke-linecap=\"round\" style=\"stroke:red;stroke-width:4\"/><line x1=\"244.115\" y1=\"140.0\" x2=\"244.115\" y2=\"220.0\" stroke-linecap=\"round\" style=\"stroke:red;stroke-width:4\"/><line x1=\"244.115\" y1=\"220.0\" x2=\"296.077\" y2=\"250.0\" stroke-linecap=\"round\" style=\"stroke:red;stroke-width:4\"/><line x1=\"296.077\" y1=\"250.0\" x2=\"348.039\" y2=\"220.0\" stroke-linecap=\"round\" style=\"stroke:red;stroke-width:4\"/><line x1=\"348.039\" y1=\"220.0\" x2=\"348.039\" y2=\"160.0\" stroke-linecap=\"round\" style=\"stroke:red;stroke-width:4\"/><line x1=\"348.039\" y1=\"160.0\" x2=\"296.077\" y2=\"130.0\" stroke-linecap=\"round\" style=\"stroke:red;stroke-width:4\"/><line x1=\"296.077\" y1=\"130.0\" x2=\"244.115\" y2=\"160.0\" stroke-linecap=\"round\" style=\"stroke:red;stroke-width:4\"/><line x1=\"244.115\" y1=\"160.0\" x2=\"244.115\" y2=\"220.0\" stroke-linecap=\"round\" style=\"stroke:red;stroke-width:4\"/><line x1=\"244.115\" y1=\"220.0\" x2=\"313.397\" y2=\"260.0\" stroke-linecap=\"round\" style=\"stroke:red;stroke-width:4\"/><line x1=\"313.397\" y1=\"260.0\" x2=\"365.359\" y2=\"230.0\" stroke-linecap=\"round\" style=\"stroke:red;stroke-width:4\"/><line x1=\"365.359\" y1=\"230.0\" x2=\"365.359\" y2=\"170.0\" stroke-linecap=\"round\" style=\"stroke:red;stroke-width:4\"/><line x1=\"365.359\" y1=\"170.0\" x2=\"313.397\" y2=\"140.0\" stroke-linecap=\"round\" style=\"stroke:red;stroke-width:4\"/><line x1=\"313.397\" y1=\"140.0\" x2=\"261.435\" y2=\"170.0\" stroke-linecap=\"round\" style=\"stroke:red;stroke-width:4\"/><line x1=\"261.435\" y1=\"170.0\" x2=\"261.435\" y2=\"230.0\" stroke-linecap=\"round\" style=\"stroke:red;stroke-width:4\"/><line x1=\"261.435\" y1=\"230.0\" x2=\"313.397\" y2=\"260.0\" stroke-linecap=\"round\" style=\"stroke:red;stroke-width:4\"/><line x1=\"313.397\" y1=\"260.0\" x2=\"382.679\" y2=\"220.0\" stroke-linecap=\"round\" style=\"stroke:red;stroke-width:4\"/><line x1=\"382.679\" y1=\"220.0\" x2=\"382.679\" y2=\"160.0\" stroke-linecap=\"round\" style=\"stroke:red;stroke-width:4\"/><line x1=\"382.679\" y1=\"160.0\" x2=\"330.717\" y2=\"130.0\" stroke-linecap=\"round\" style=\"stroke:red;stroke-width:4\"/><line x1=\"330.717\" y1=\"130.0\" x2=\"278.755\" y2=\"160.0\" stroke-linecap=\"round\" style=\"stroke:red;stroke-width:4\"/><line x1=\"278.755\" y1=\"160.0\" x2=\"278.755\" y2=\"220.0\" stroke-linecap=\"round\" style=\"stroke:red;stroke-width:4\"/><line x1=\"278.755\" y1=\"220.0\" x2=\"330.717\" y2=\"250.0\" stroke-linecap=\"round\" style=\"stroke:red;stroke-width:4\"/><line x1=\"330.717\" y1=\"250.0\" x2=\"382.679\" y2=\"220.0\" stroke-linecap=\"round\" style=\"stroke:red;stroke-width:4\"/><line x1=\"382.679\" y1=\"220.0\" x2=\"382.679\" y2=\"140.0\" stroke-linecap=\"round\" style=\"stroke:red;stroke-width:4\"/><line x1=\"382.679\" y1=\"140.0\" x2=\"330.717\" y2=\"110.0\" stroke-linecap=\"round\" style=\"stroke:red;stroke-width:4\"/><line x1=\"330.717\" y1=\"110.0\" x2=\"278.755\" y2=\"140.0\" stroke-linecap=\"round\" style=\"stroke:red;stroke-width:4\"/><line x1=\"278.755\" y1=\"140.0\" x2=\"278.755\" y2=\"200.0\" stroke-linecap=\"round\" style=\"stroke:red;stroke-width:4\"/><line x1=\"278.755\" y1=\"200.0\" x2=\"330.717\" y2=\"230.0\" stroke-linecap=\"round\" style=\"stroke:red;stroke-width:4\"/><line x1=\"330.717\" y1=\"230.0\" x2=\"382.679\" y2=\"200.0\" stroke-linecap=\"round\" style=\"stroke:red;stroke-width:4\"/><line x1=\"382.679\" y1=\"200.0\" x2=\"382.679\" y2=\"140.0\" stroke-linecap=\"round\" style=\"stroke:red;stroke-width:4\"/><line x1=\"382.679\" y1=\"140.0\" x2=\"313.397\" y2=\"100.0\" stroke-linecap=\"round\" style=\"stroke:red;stroke-width:4\"/><line x1=\"313.397\" y1=\"100.0\" x2=\"261.435\" y2=\"130.0\" stroke-linecap=\"round\" style=\"stroke:red;stroke-width:4\"/><line x1=\"261.435\" y1=\"130.0\" x2=\"261.435\" y2=\"190.0\" stroke-linecap=\"round\" style=\"stroke:red;stroke-width:4\"/><line x1=\"261.435\" y1=\"190.0\" x2=\"313.397\" y2=\"220.0\" stroke-linecap=\"round\" style=\"stroke:red;stroke-width:4\"/><line x1=\"313.397\" y1=\"220.0\" x2=\"365.359\" y2=\"190.0\" stroke-linecap=\"round\" style=\"stroke:red;stroke-width:4\"/><line x1=\"365.359\" y1=\"190.0\" x2=\"365.359\" y2=\"130.0\" stroke-linecap=\"round\" style=\"stroke:red;stroke-width:4\"/><line x1=\"365.359\" y1=\"130.0\" x2=\"313.397\" y2=\"100.0\" stroke-linecap=\"round\" style=\"stroke:red;stroke-width:4\"/><line x1=\"313.397\" y1=\"100.0\" x2=\"226.794\" y2=\"150.0\" stroke-linecap=\"round\" style=\"stroke:red;stroke-width:4\"/><line x1=\"226.794\" y1=\"150.0\" x2=\"226.794\" y2=\"230.0\" stroke-linecap=\"round\" style=\"stroke:red;stroke-width:4\"/><line x1=\"226.794\" y1=\"230.0\" x2=\"278.756\" y2=\"260.0\" stroke-linecap=\"round\" style=\"stroke:red;stroke-width:4\"/><line x1=\"278.756\" y1=\"260.0\" x2=\"330.718\" y2=\"230.0\" stroke-linecap=\"round\" style=\"stroke:red;stroke-width:4\"/><line x1=\"330.718\" y1=\"230.0\" x2=\"330.718\" y2=\"170.0\" stroke-linecap=\"round\" style=\"stroke:red;stroke-width:4\"/><line x1=\"330.718\" y1=\"170.0\" x2=\"278.756\" y2=\"140.0\" stroke-linecap=\"round\" style=\"stroke:red;stroke-width:4\"/><line x1=\"278.756\" y1=\"140.0\" x2=\"226.794\" y2=\"170.0\" stroke-linecap=\"round\" style=\"stroke:red;stroke-width:4\"/><line x1=\"226.794\" y1=\"170.0\" x2=\"226.794\" y2=\"230.0\" stroke-linecap=\"round\" style=\"stroke:red;stroke-width:4\"/><line x1=\"226.794\" y1=\"230.0\" x2=\"296.076\" y2=\"270.0\" stroke-linecap=\"round\" style=\"stroke:red;stroke-width:4\"/><line x1=\"296.076\" y1=\"270.0\" x2=\"348.038\" y2=\"240.0\" stroke-linecap=\"round\" style=\"stroke:red;stroke-width:4\"/><line x1=\"348.038\" y1=\"240.0\" x2=\"348.038\" y2=\"180.0\" stroke-linecap=\"round\" style=\"stroke:red;stroke-width:4\"/><line x1=\"348.038\" y1=\"180.0\" x2=\"296.076\" y2=\"150.0\" stroke-linecap=\"round\" style=\"stroke:red;stroke-width:4\"/><line x1=\"296.076\" y1=\"150.0\" x2=\"244.114\" y2=\"180.0\" stroke-linecap=\"round\" style=\"stroke:red;stroke-width:4\"/><line x1=\"244.114\" y1=\"180.0\" x2=\"244.114\" y2=\"240.0\" stroke-linecap=\"round\" style=\"stroke:red;stroke-width:4\"/><line x1=\"244.114\" y1=\"240.0\" x2=\"296.076\" y2=\"270.0\" stroke-linecap=\"round\" style=\"stroke:red;stroke-width:4\"/><line x1=\"296.076\" y1=\"270.0\" x2=\"365.358\" y2=\"230.0\" stroke-linecap=\"round\" style=\"stroke:red;stroke-width:4\"/><line x1=\"365.358\" y1=\"230.0\" x2=\"365.358\" y2=\"170.0\" stroke-linecap=\"round\" style=\"stroke:red;stroke-width:4\"/><line x1=\"365.358\" y1=\"170.0\" x2=\"313.396\" y2=\"140.0\" stroke-linecap=\"round\" style=\"stroke:red;stroke-width:4\"/><line x1=\"313.396\" y1=\"140.0\" x2=\"261.434\" y2=\"170.0\" stroke-linecap=\"round\" style=\"stroke:red;stroke-width:4\"/><line x1=\"261.434\" y1=\"170.0\" x2=\"261.434\" y2=\"230.0\" stroke-linecap=\"round\" style=\"stroke:red;stroke-width:4\"/><line x1=\"261.434\" y1=\"230.0\" x2=\"313.396\" y2=\"260.0\" stroke-linecap=\"round\" style=\"stroke:red;stroke-width:4\"/><line x1=\"313.396\" y1=\"260.0\" x2=\"365.358\" y2=\"230.0\" stroke-linecap=\"round\" style=\"stroke:red;stroke-width:4\"/><line x1=\"365.358\" y1=\"230.0\" x2=\"365.358\" y2=\"150.0\" stroke-linecap=\"round\" style=\"stroke:red;stroke-width:4\"/><line x1=\"365.358\" y1=\"150.0\" x2=\"313.396\" y2=\"120.0\" stroke-linecap=\"round\" style=\"stroke:red;stroke-width:4\"/><line x1=\"313.396\" y1=\"120.0\" x2=\"261.434\" y2=\"150.0\" stroke-linecap=\"round\" style=\"stroke:red;stroke-width:4\"/><line x1=\"261.434\" y1=\"150.0\" x2=\"261.434\" y2=\"210.0\" stroke-linecap=\"round\" style=\"stroke:red;stroke-width:4\"/><line x1=\"261.434\" y1=\"210.0\" x2=\"313.396\" y2=\"240.0\" stroke-linecap=\"round\" style=\"stroke:red;stroke-width:4\"/><line x1=\"313.396\" y1=\"240.0\" x2=\"365.358\" y2=\"210.0\" stroke-linecap=\"round\" style=\"stroke:red;stroke-width:4\"/><line x1=\"365.358\" y1=\"210.0\" x2=\"365.358\" y2=\"150.0\" stroke-linecap=\"round\" style=\"stroke:red;stroke-width:4\"/><line x1=\"365.358\" y1=\"150.0\" x2=\"296.076\" y2=\"110.0\" stroke-linecap=\"round\" style=\"stroke:red;stroke-width:4\"/><line x1=\"296.076\" y1=\"110.0\" x2=\"244.114\" y2=\"140.0\" stroke-linecap=\"round\" style=\"stroke:red;stroke-width:4\"/><line x1=\"244.114\" y1=\"140.0\" x2=\"244.114\" y2=\"200.0\" stroke-linecap=\"round\" style=\"stroke:red;stroke-width:4\"/><line x1=\"244.114\" y1=\"200.0\" x2=\"296.076\" y2=\"230.0\" stroke-linecap=\"round\" style=\"stroke:red;stroke-width:4\"/><line x1=\"296.076\" y1=\"230.0\" x2=\"348.038\" y2=\"200.0\" stroke-linecap=\"round\" style=\"stroke:red;stroke-width:4\"/><line x1=\"348.038\" y1=\"200.0\" x2=\"348.038\" y2=\"140.0\" stroke-linecap=\"round\" style=\"stroke:red;stroke-width:4\"/><line x1=\"348.038\" y1=\"140.0\" x2=\"296.076\" y2=\"110.0\" stroke-linecap=\"round\" style=\"stroke:red;stroke-width:4\"/><line x1=\"296.076\" y1=\"110.0\" x2=\"226.794\" y2=\"150.0\" stroke-linecap=\"round\" style=\"stroke:red;stroke-width:4\"/><line x1=\"226.794\" y1=\"150.0\" x2=\"226.794\" y2=\"210.0\" stroke-linecap=\"round\" style=\"stroke:red;stroke-width:4\"/><line x1=\"226.794\" y1=\"210.0\" x2=\"278.756\" y2=\"240.0\" stroke-linecap=\"round\" style=\"stroke:red;stroke-width:4\"/><line x1=\"278.756\" y1=\"240.0\" x2=\"330.718\" y2=\"210.0\" stroke-linecap=\"round\" style=\"stroke:red;stroke-width:4\"/><line x1=\"330.718\" y1=\"210.0\" x2=\"330.718\" y2=\"150.0\" stroke-linecap=\"round\" style=\"stroke:red;stroke-width:4\"/><line x1=\"330.718\" y1=\"150.0\" x2=\"278.756\" y2=\"120.0\" stroke-linecap=\"round\" style=\"stroke:red;stroke-width:4\"/><line x1=\"278.756\" y1=\"120.0\" x2=\"226.794\" y2=\"150.0\" stroke-linecap=\"round\" style=\"stroke:red;stroke-width:4\"/><line x1=\"226.794\" y1=\"150.0\" x2=\"226.794\" y2=\"250.0\" stroke-linecap=\"round\" style=\"stroke:red;stroke-width:4\"/><line x1=\"226.794\" y1=\"250.0\" x2=\"296.076\" y2=\"290.0\" stroke-linecap=\"round\" style=\"stroke:red;stroke-width:4\"/><line x1=\"296.076\" y1=\"290.0\" x2=\"348.038\" y2=\"260.0\" stroke-linecap=\"round\" style=\"stroke:red;stroke-width:4\"/><line x1=\"348.038\" y1=\"260.0\" x2=\"348.038\" y2=\"200.0\" stroke-linecap=\"round\" style=\"stroke:red;stroke-width:4\"/><line x1=\"348.038\" y1=\"200.0\" x2=\"296.076\" y2=\"170.0\" stroke-linecap=\"round\" style=\"stroke:red;stroke-width:4\"/><line x1=\"296.076\" y1=\"170.0\" x2=\"244.114\" y2=\"200.0\" stroke-linecap=\"round\" style=\"stroke:red;stroke-width:4\"/><line x1=\"244.114\" y1=\"200.0\" x2=\"244.114\" y2=\"260.0\" stroke-linecap=\"round\" style=\"stroke:red;stroke-width:4\"/><line x1=\"244.114\" y1=\"260.0\" x2=\"296.076\" y2=\"290.0\" stroke-linecap=\"round\" style=\"stroke:red;stroke-width:4\"/><line x1=\"296.076\" y1=\"290.0\" x2=\"365.358\" y2=\"250.0\" stroke-linecap=\"round\" style=\"stroke:red;stroke-width:4\"/><line x1=\"365.358\" y1=\"250.0\" x2=\"365.358\" y2=\"190.0\" stroke-linecap=\"round\" style=\"stroke:red;stroke-width:4\"/><line x1=\"365.358\" y1=\"190.0\" x2=\"313.396\" y2=\"160.0\" stroke-linecap=\"round\" style=\"stroke:red;stroke-width:4\"/><line x1=\"313.396\" y1=\"160.0\" x2=\"261.434\" y2=\"190.0\" stroke-linecap=\"round\" style=\"stroke:red;stroke-width:4\"/><line x1=\"261.434\" y1=\"190.0\" x2=\"261.434\" y2=\"250.0\" stroke-linecap=\"round\" style=\"stroke:red;stroke-width:4\"/><line x1=\"261.434\" y1=\"250.0\" x2=\"313.396\" y2=\"280.0\" stroke-linecap=\"round\" style=\"stroke:red;stroke-width:4\"/><line x1=\"313.396\" y1=\"280.0\" x2=\"365.358\" y2=\"250.0\" stroke-linecap=\"round\" style=\"stroke:red;stroke-width:4\"/><line x1=\"365.358\" y1=\"250.0\" x2=\"365.358\" y2=\"170.0\" stroke-linecap=\"round\" style=\"stroke:red;stroke-width:4\"/><line x1=\"365.358\" y1=\"170.0\" x2=\"313.396\" y2=\"140.0\" stroke-linecap=\"round\" style=\"stroke:red;stroke-width:4\"/><line x1=\"313.396\" y1=\"140.0\" x2=\"261.434\" y2=\"170.0\" stroke-linecap=\"round\" style=\"stroke:red;stroke-width:4\"/><line x1=\"261.434\" y1=\"170.0\" x2=\"261.434\" y2=\"230.0\" stroke-linecap=\"round\" style=\"stroke:red;stroke-width:4\"/><line x1=\"261.434\" y1=\"230.0\" x2=\"313.396\" y2=\"260.0\" stroke-linecap=\"round\" style=\"stroke:red;stroke-width:4\"/><line x1=\"313.396\" y1=\"260.0\" x2=\"365.358\" y2=\"230.0\" stroke-linecap=\"round\" style=\"stroke:red;stroke-width:4\"/><line x1=\"365.358\" y1=\"230.0\" x2=\"365.358\" y2=\"170.0\" stroke-linecap=\"round\" style=\"stroke:red;stroke-width:4\"/><line x1=\"365.358\" y1=\"170.0\" x2=\"296.076\" y2=\"130.0\" stroke-linecap=\"round\" style=\"stroke:red;stroke-width:4\"/><line x1=\"296.076\" y1=\"130.0\" x2=\"244.114\" y2=\"160.0\" stroke-linecap=\"round\" style=\"stroke:red;stroke-width:4\"/><line x1=\"244.114\" y1=\"160.0\" x2=\"244.114\" y2=\"220.0\" stroke-linecap=\"round\" style=\"stroke:red;stroke-width:4\"/><line x1=\"244.114\" y1=\"220.0\" x2=\"296.076\" y2=\"250.0\" stroke-linecap=\"round\" style=\"stroke:red;stroke-width:4\"/><line x1=\"296.076\" y1=\"250.0\" x2=\"348.038\" y2=\"220.0\" stroke-linecap=\"round\" style=\"stroke:red;stroke-width:4\"/><line x1=\"348.038\" y1=\"220.0\" x2=\"348.038\" y2=\"160.0\" stroke-linecap=\"round\" style=\"stroke:red;stroke-width:4\"/><line x1=\"348.038\" y1=\"160.0\" x2=\"296.076\" y2=\"130.0\" stroke-linecap=\"round\" style=\"stroke:red;stroke-width:4\"/><line x1=\"296.076\" y1=\"130.0\" x2=\"226.794\" y2=\"170.0\" stroke-linecap=\"round\" style=\"stroke:red;stroke-width:4\"/><line x1=\"226.794\" y1=\"170.0\" x2=\"226.794\" y2=\"230.0\" stroke-linecap=\"round\" style=\"stroke:red;stroke-width:4\"/><line x1=\"226.794\" y1=\"230.0\" x2=\"278.756\" y2=\"260.0\" stroke-linecap=\"round\" style=\"stroke:red;stroke-width:4\"/><line x1=\"278.756\" y1=\"260.0\" x2=\"330.718\" y2=\"230.0\" stroke-linecap=\"round\" style=\"stroke:red;stroke-width:4\"/><line x1=\"330.718\" y1=\"230.0\" x2=\"330.718\" y2=\"170.0\" stroke-linecap=\"round\" style=\"stroke:red;stroke-width:4\"/><line x1=\"330.718\" y1=\"170.0\" x2=\"278.756\" y2=\"140.0\" stroke-linecap=\"round\" style=\"stroke:red;stroke-width:4\"/><line x1=\"278.756\" y1=\"140.0\" x2=\"226.794\" y2=\"170.0\" stroke-linecap=\"round\" style=\"stroke:red;stroke-width:4\"/><line x1=\"226.794\" y1=\"170.0\" x2=\"226.794\" y2=\"250.0\" stroke-linecap=\"round\" style=\"stroke:red;stroke-width:4\"/><line x1=\"226.794\" y1=\"250.0\" x2=\"278.756\" y2=\"280.0\" stroke-linecap=\"round\" style=\"stroke:red;stroke-width:4\"/><line x1=\"278.756\" y1=\"280.0\" x2=\"330.718\" y2=\"250.0\" stroke-linecap=\"round\" style=\"stroke:red;stroke-width:4\"/><line x1=\"330.718\" y1=\"250.0\" x2=\"330.718\" y2=\"190.0\" stroke-linecap=\"round\" style=\"stroke:red;stroke-width:4\"/><line x1=\"330.718\" y1=\"190.0\" x2=\"278.756\" y2=\"160.0\" stroke-linecap=\"round\" style=\"stroke:red;stroke-width:4\"/><line x1=\"278.756\" y1=\"160.0\" x2=\"226.794\" y2=\"190.0\" stroke-linecap=\"round\" style=\"stroke:red;stroke-width:4\"/><line x1=\"226.794\" y1=\"190.0\" x2=\"226.794\" y2=\"250.0\" stroke-linecap=\"round\" style=\"stroke:red;stroke-width:4\"/><line x1=\"226.794\" y1=\"250.0\" x2=\"313.397\" y2=\"300.0\" stroke-linecap=\"round\" style=\"stroke:red;stroke-width:4\"/><line x1=\"313.397\" y1=\"300.0\" x2=\"382.679\" y2=\"260.0\" stroke-linecap=\"round\" style=\"stroke:red;stroke-width:4\"/><line x1=\"382.679\" y1=\"260.0\" x2=\"382.679\" y2=\"200.0\" stroke-linecap=\"round\" style=\"stroke:red;stroke-width:4\"/><line x1=\"382.679\" y1=\"200.0\" x2=\"330.717\" y2=\"170.0\" stroke-linecap=\"round\" style=\"stroke:red;stroke-width:4\"/><line x1=\"330.717\" y1=\"170.0\" x2=\"278.755\" y2=\"200.0\" stroke-linecap=\"round\" style=\"stroke:red;stroke-width:4\"/><line x1=\"278.755\" y1=\"200.0\" x2=\"278.755\" y2=\"260.0\" stroke-linecap=\"round\" style=\"stroke:red;stroke-width:4\"/><line x1=\"278.755\" y1=\"260.0\" x2=\"330.717\" y2=\"290.0\" stroke-linecap=\"round\" style=\"stroke:red;stroke-width:4\"/><line x1=\"330.717\" y1=\"290.0\" x2=\"382.679\" y2=\"260.0\" stroke-linecap=\"round\" style=\"stroke:red;stroke-width:4\"/><line x1=\"382.679\" y1=\"260.0\" x2=\"382.679\" y2=\"180.0\" stroke-linecap=\"round\" style=\"stroke:red;stroke-width:4\"/><line x1=\"382.679\" y1=\"180.0\" x2=\"330.717\" y2=\"150.0\" stroke-linecap=\"round\" style=\"stroke:red;stroke-width:4\"/><line x1=\"330.717\" y1=\"150.0\" x2=\"278.755\" y2=\"180.0\" stroke-linecap=\"round\" style=\"stroke:red;stroke-width:4\"/><line x1=\"278.755\" y1=\"180.0\" x2=\"278.755\" y2=\"240.0\" stroke-linecap=\"round\" style=\"stroke:red;stroke-width:4\"/><line x1=\"278.755\" y1=\"240.0\" x2=\"330.717\" y2=\"270.0\" stroke-linecap=\"round\" style=\"stroke:red;stroke-width:4\"/><line x1=\"330.717\" y1=\"270.0\" x2=\"382.679\" y2=\"240.0\" stroke-linecap=\"round\" style=\"stroke:red;stroke-width:4\"/><line x1=\"382.679\" y1=\"240.0\" x2=\"382.679\" y2=\"180.0\" stroke-linecap=\"round\" style=\"stroke:red;stroke-width:4\"/><line x1=\"382.679\" y1=\"180.0\" x2=\"313.397\" y2=\"140.0\" stroke-linecap=\"round\" style=\"stroke:red;stroke-width:4\"/><line x1=\"313.397\" y1=\"140.0\" x2=\"261.435\" y2=\"170.0\" stroke-linecap=\"round\" style=\"stroke:red;stroke-width:4\"/><line x1=\"261.435\" y1=\"170.0\" x2=\"261.435\" y2=\"230.0\" stroke-linecap=\"round\" style=\"stroke:red;stroke-width:4\"/><line x1=\"261.435\" y1=\"230.0\" x2=\"313.397\" y2=\"260.0\" stroke-linecap=\"round\" style=\"stroke:red;stroke-width:4\"/><line x1=\"313.397\" y1=\"260.0\" x2=\"365.359\" y2=\"230.0\" stroke-linecap=\"round\" style=\"stroke:red;stroke-width:4\"/><line x1=\"365.359\" y1=\"230.0\" x2=\"365.359\" y2=\"170.0\" stroke-linecap=\"round\" style=\"stroke:red;stroke-width:4\"/><line x1=\"365.359\" y1=\"170.0\" x2=\"313.397\" y2=\"140.0\" stroke-linecap=\"round\" style=\"stroke:red;stroke-width:4\"/><line x1=\"313.397\" y1=\"140.0\" x2=\"244.115\" y2=\"180.0\" stroke-linecap=\"round\" style=\"stroke:red;stroke-width:4\"/><line x1=\"244.115\" y1=\"180.0\" x2=\"244.115\" y2=\"240.0\" stroke-linecap=\"round\" style=\"stroke:red;stroke-width:4\"/><line x1=\"244.115\" y1=\"240.0\" x2=\"296.077\" y2=\"270.0\" stroke-linecap=\"round\" style=\"stroke:red;stroke-width:4\"/><line x1=\"296.077\" y1=\"270.0\" x2=\"348.039\" y2=\"240.0\" stroke-linecap=\"round\" style=\"stroke:red;stroke-width:4\"/><line x1=\"348.039\" y1=\"240.0\" x2=\"348.039\" y2=\"180.0\" stroke-linecap=\"round\" style=\"stroke:red;stroke-width:4\"/><line x1=\"348.039\" y1=\"180.0\" x2=\"296.077\" y2=\"150.0\" stroke-linecap=\"round\" style=\"stroke:red;stroke-width:4\"/><line x1=\"296.077\" y1=\"150.0\" x2=\"244.115\" y2=\"180.0\" stroke-linecap=\"round\" style=\"stroke:red;stroke-width:4\"/><line x1=\"244.115\" y1=\"180.0\" x2=\"244.115\" y2=\"260.0\" stroke-linecap=\"round\" style=\"stroke:red;stroke-width:4\"/><line x1=\"244.115\" y1=\"260.0\" x2=\"296.077\" y2=\"290.0\" stroke-linecap=\"round\" style=\"stroke:red;stroke-width:4\"/><line x1=\"296.077\" y1=\"290.0\" x2=\"348.039\" y2=\"260.0\" stroke-linecap=\"round\" style=\"stroke:red;stroke-width:4\"/><line x1=\"348.039\" y1=\"260.0\" x2=\"348.039\" y2=\"200.0\" stroke-linecap=\"round\" style=\"stroke:red;stroke-width:4\"/><line x1=\"348.039\" y1=\"200.0\" x2=\"296.077\" y2=\"170.0\" stroke-linecap=\"round\" style=\"stroke:red;stroke-width:4\"/><line x1=\"296.077\" y1=\"170.0\" x2=\"244.115\" y2=\"200.0\" stroke-linecap=\"round\" style=\"stroke:red;stroke-width:4\"/><line x1=\"244.115\" y1=\"200.0\" x2=\"244.115\" y2=\"260.0\" stroke-linecap=\"round\" style=\"stroke:red;stroke-width:4\"/><line x1=\"244.115\" y1=\"260.0\" x2=\"313.397\" y2=\"300.0\" stroke-linecap=\"round\" style=\"stroke:red;stroke-width:4\"/><line x1=\"313.397\" y1=\"300.0\" x2=\"365.359\" y2=\"270.0\" stroke-linecap=\"round\" style=\"stroke:red;stroke-width:4\"/><line x1=\"365.359\" y1=\"270.0\" x2=\"365.359\" y2=\"210.0\" stroke-linecap=\"round\" style=\"stroke:red;stroke-width:4\"/><line x1=\"365.359\" y1=\"210.0\" x2=\"313.397\" y2=\"180.0\" stroke-linecap=\"round\" style=\"stroke:red;stroke-width:4\"/><line x1=\"313.397\" y1=\"180.0\" x2=\"261.435\" y2=\"210.0\" stroke-linecap=\"round\" style=\"stroke:red;stroke-width:4\"/><line x1=\"261.435\" y1=\"210.0\" x2=\"261.435\" y2=\"270.0\" stroke-linecap=\"round\" style=\"stroke:red;stroke-width:4\"/><line x1=\"261.435\" y1=\"270.0\" x2=\"313.397\" y2=\"300.0\" stroke-linecap=\"round\" style=\"stroke:red;stroke-width:4\"/><line x1=\"313.397\" y1=\"300.0\" x2=\"400.0\" y2=\"250.0\" stroke-linecap=\"round\" style=\"stroke:red;stroke-width:4\"/><line x1=\"400.0\" y1=\"250.0\" x2=\"400.0\" y2=\"170.0\" stroke-linecap=\"round\" style=\"stroke:red;stroke-width:4\"/><line x1=\"400.0\" y1=\"170.0\" x2=\"348.038\" y2=\"140.0\" stroke-linecap=\"round\" style=\"stroke:red;stroke-width:4\"/><line x1=\"348.038\" y1=\"140.0\" x2=\"296.076\" y2=\"170.0\" stroke-linecap=\"round\" style=\"stroke:red;stroke-width:4\"/><line x1=\"296.076\" y1=\"170.0\" x2=\"296.076\" y2=\"230.0\" stroke-linecap=\"round\" style=\"stroke:red;stroke-width:4\"/><line x1=\"296.076\" y1=\"230.0\" x2=\"348.038\" y2=\"260.0\" stroke-linecap=\"round\" style=\"stroke:red;stroke-width:4\"/><line x1=\"348.038\" y1=\"260.0\" x2=\"400.0\" y2=\"230.0\" stroke-linecap=\"round\" style=\"stroke:red;stroke-width:4\"/><line x1=\"400.0\" y1=\"230.0\" x2=\"400.0\" y2=\"170.0\" stroke-linecap=\"round\" style=\"stroke:red;stroke-width:4\"/><line x1=\"400.0\" y1=\"170.0\" x2=\"330.718\" y2=\"130.0\" stroke-linecap=\"round\" style=\"stroke:red;stroke-width:4\"/><line x1=\"330.718\" y1=\"130.0\" x2=\"278.756\" y2=\"160.0\" stroke-linecap=\"round\" style=\"stroke:red;stroke-width:4\"/><line x1=\"278.756\" y1=\"160.0\" x2=\"278.756\" y2=\"220.0\" stroke-linecap=\"round\" style=\"stroke:red;stroke-width:4\"/><line x1=\"278.756\" y1=\"220.0\" x2=\"330.718\" y2=\"250.0\" stroke-linecap=\"round\" style=\"stroke:red;stroke-width:4\"/><line x1=\"330.718\" y1=\"250.0\" x2=\"382.68\" y2=\"220.0\" stroke-linecap=\"round\" style=\"stroke:red;stroke-width:4\"/><line x1=\"382.68\" y1=\"220.0\" x2=\"382.68\" y2=\"160.0\" stroke-linecap=\"round\" style=\"stroke:red;stroke-width:4\"/><line x1=\"382.68\" y1=\"160.0\" x2=\"330.718\" y2=\"130.0\" stroke-linecap=\"round\" style=\"stroke:red;stroke-width:4\"/><line x1=\"330.718\" y1=\"130.0\" x2=\"261.436\" y2=\"170.0\" stroke-linecap=\"round\" style=\"stroke:red;stroke-width:4\"/><line x1=\"261.436\" y1=\"170.0\" x2=\"261.436\" y2=\"230.0\" stroke-linecap=\"round\" style=\"stroke:red;stroke-width:4\"/><line x1=\"261.436\" y1=\"230.0\" x2=\"313.398\" y2=\"260.0\" stroke-linecap=\"round\" style=\"stroke:red;stroke-width:4\"/><line x1=\"313.398\" y1=\"260.0\" x2=\"365.36\" y2=\"230.0\" stroke-linecap=\"round\" style=\"stroke:red;stroke-width:4\"/><line x1=\"365.36\" y1=\"230.0\" x2=\"365.36\" y2=\"170.0\" stroke-linecap=\"round\" style=\"stroke:red;stroke-width:4\"/><line x1=\"365.36\" y1=\"170.0\" x2=\"313.398\" y2=\"140.0\" stroke-linecap=\"round\" style=\"stroke:red;stroke-width:4\"/><line x1=\"313.398\" y1=\"140.0\" x2=\"261.436\" y2=\"170.0\" stroke-linecap=\"round\" style=\"stroke:red;stroke-width:4\"/><line x1=\"261.436\" y1=\"170.0\" x2=\"261.436\" y2=\"250.0\" stroke-linecap=\"round\" style=\"stroke:red;stroke-width:4\"/><line x1=\"261.436\" y1=\"250.0\" x2=\"313.398\" y2=\"280.0\" stroke-linecap=\"round\" style=\"stroke:red;stroke-width:4\"/><line x1=\"313.398\" y1=\"280.0\" x2=\"365.36\" y2=\"250.0\" stroke-linecap=\"round\" style=\"stroke:red;stroke-width:4\"/><line x1=\"365.36\" y1=\"250.0\" x2=\"365.36\" y2=\"190.0\" stroke-linecap=\"round\" style=\"stroke:red;stroke-width:4\"/><line x1=\"365.36\" y1=\"190.0\" x2=\"313.398\" y2=\"160.0\" stroke-linecap=\"round\" style=\"stroke:red;stroke-width:4\"/><line x1=\"313.398\" y1=\"160.0\" x2=\"261.436\" y2=\"190.0\" stroke-linecap=\"round\" style=\"stroke:red;stroke-width:4\"/><line x1=\"261.436\" y1=\"190.0\" x2=\"261.436\" y2=\"250.0\" stroke-linecap=\"round\" style=\"stroke:red;stroke-width:4\"/><line x1=\"261.436\" y1=\"250.0\" x2=\"330.718\" y2=\"290.0\" stroke-linecap=\"round\" style=\"stroke:red;stroke-width:4\"/><line x1=\"330.718\" y1=\"290.0\" x2=\"382.68\" y2=\"260.0\" stroke-linecap=\"round\" style=\"stroke:red;stroke-width:4\"/><line x1=\"382.68\" y1=\"260.0\" x2=\"382.68\" y2=\"200.0\" stroke-linecap=\"round\" style=\"stroke:red;stroke-width:4\"/><line x1=\"382.68\" y1=\"200.0\" x2=\"330.718\" y2=\"170.0\" stroke-linecap=\"round\" style=\"stroke:red;stroke-width:4\"/><line x1=\"330.718\" y1=\"170.0\" x2=\"278.756\" y2=\"200.0\" stroke-linecap=\"round\" style=\"stroke:red;stroke-width:4\"/><line x1=\"278.756\" y1=\"200.0\" x2=\"278.756\" y2=\"260.0\" stroke-linecap=\"round\" style=\"stroke:red;stroke-width:4\"/><line x1=\"278.756\" y1=\"260.0\" x2=\"330.718\" y2=\"290.0\" stroke-linecap=\"round\" style=\"stroke:red;stroke-width:4\"/><line x1=\"330.718\" y1=\"290.0\" x2=\"400.0\" y2=\"250.0\" stroke-linecap=\"round\" style=\"stroke:red;stroke-width:4\"/><line x1=\"400.0\" y1=\"250.0\" x2=\"400.0\" y2=\"190.0\" stroke-linecap=\"round\" style=\"stroke:red;stroke-width:4\"/><line x1=\"400.0\" y1=\"190.0\" x2=\"348.038\" y2=\"160.0\" stroke-linecap=\"round\" style=\"stroke:red;stroke-width:4\"/><line x1=\"348.038\" y1=\"160.0\" x2=\"296.076\" y2=\"190.0\" stroke-linecap=\"round\" style=\"stroke:red;stroke-width:4\"/><line x1=\"296.076\" y1=\"190.0\" x2=\"296.076\" y2=\"250.0\" stroke-linecap=\"round\" style=\"stroke:red;stroke-width:4\"/><line x1=\"296.076\" y1=\"250.0\" x2=\"348.038\" y2=\"280.0\" stroke-linecap=\"round\" style=\"stroke:red;stroke-width:4\"/><line x1=\"348.038\" y1=\"280.0\" x2=\"400.0\" y2=\"250.0\" stroke-linecap=\"round\" style=\"stroke:red;stroke-width:4\"/>\n",
              "        <g visibility=visible transform=\"rotate(360.0,400.0,250.0) translate(382.0, 232.0)\">\n",
              "<path style=\" stroke:none;fill-rule:evenodd;fill:red;fill-opacity:1;\" d=\"M 18.214844 0.632812 C 16.109375 1.800781 15.011719 4.074219 15.074219 7.132812 L 15.085938 7.652344 L 14.785156 7.496094 C 13.476562 6.824219 11.957031 6.671875 10.40625 7.066406 C 8.46875 7.550781 6.515625 9.15625 4.394531 11.992188 C 3.0625 13.777344 2.679688 14.636719 3.042969 15.027344 L 3.15625 15.152344 L 3.519531 15.152344 C 4.238281 15.152344 4.828125 14.886719 8.1875 13.039062 C 9.386719 12.378906 10.371094 11.839844 10.378906 11.839844 C 10.386719 11.839844 10.355469 11.929688 10.304688 12.035156 C 9.832031 13.09375 9.257812 14.820312 8.96875 16.078125 C 7.914062 20.652344 8.617188 24.53125 11.070312 27.660156 C 11.351562 28.015625 11.363281 27.914062 10.972656 28.382812 C 8.925781 30.84375 7.945312 33.28125 8.238281 35.1875 C 8.289062 35.527344 8.28125 35.523438 8.917969 35.523438 C 10.941406 35.523438 13.074219 34.207031 15.136719 31.6875 C 15.359375 31.417969 15.328125 31.425781 15.5625 31.574219 C 16.292969 32.042969 18.023438 32.964844 18.175781 32.964844 C 18.335938 32.964844 19.941406 32.210938 20.828125 31.71875 C 20.996094 31.625 21.136719 31.554688 21.136719 31.558594 C 21.203125 31.664062 21.898438 32.414062 22.222656 32.730469 C 23.835938 34.300781 25.5625 35.132812 27.582031 35.300781 C 27.90625 35.328125 27.9375 35.308594 28.007812 34.984375 C 28.382812 33.242188 27.625 30.925781 25.863281 28.425781 L 25.542969 27.96875 L 25.699219 27.785156 C 28.945312 23.960938 29.132812 18.699219 26.257812 11.96875 L 26.207031 11.84375 L 27.945312 12.703125 C 31.53125 14.476562 32.316406 14.800781 33.03125 14.800781 C 33.976562 14.800781 33.78125 13.9375 32.472656 12.292969 C 28.519531 7.355469 25.394531 5.925781 21.921875 7.472656 L 21.558594 7.636719 L 21.578125 7.542969 C 21.699219 6.992188 21.761719 5.742188 21.699219 5.164062 C 21.496094 3.296875 20.664062 1.964844 19.003906 0.855469 C 18.480469 0.503906 18.457031 0.5 18.214844 0.632812\"/>\n",
              "</g>\n",
              "      </svg>\n",
              "    "
            ]
          },
          "metadata": {}
        }
      ]
    },
    {
      "cell_type": "code",
      "source": [
        "lados = int(input('Digite el numero de lados de la figura '))\n",
        "initializeTurtle(initial_speed=10)\n",
        "#pencolor(colors_list[lados])\n",
        "\n",
        "if lados < 3:\n",
        "  print('Error')\n",
        "\n",
        "else :\n",
        "  theta=360/lados\n",
        "  for i in range(lados):\n",
        "    pencolor(colors_list[lados%6])\n",
        "    forward(30)\n",
        "    left(theta)\n",
        "    for j in range(lados):\n",
        "      pencolor(colors_list[lados%6])\n",
        "      forward(30)\n",
        "      left(theta/2)\n",
        "      for k in range(lados):\n",
        "        pencolor(colors_list[lados%6])\n",
        "        forward(30)\n",
        "        left(theta/3)\n",
        ""
      ],
      "metadata": {
        "id": "v7Dnyc0KWbkQ"
      },
      "execution_count": null,
      "outputs": []
    }
  ]
}