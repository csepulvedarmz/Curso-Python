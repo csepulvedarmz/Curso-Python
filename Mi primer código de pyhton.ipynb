{
  "nbformat": 4,
  "nbformat_minor": 0,
  "metadata": {
    "colab": {
      "provenance": [],
      "authorship_tag": "ABX9TyNoV4QPeQvRMdFcjXhozKZm",
      "include_colab_link": true
    },
    "kernelspec": {
      "name": "python3",
      "display_name": "Python 3"
    },
    "language_info": {
      "name": "python"
    }
  },
  "cells": [
    {
      "cell_type": "markdown",
      "metadata": {
        "id": "view-in-github",
        "colab_type": "text"
      },
      "source": [
        "<a href=\"https://colab.research.google.com/github/csepulvedarmz/Curso-Python/blob/main/Mi%20primer%20c%C3%B3digo%20de%20pyhton.ipynb\" target=\"_parent\"><img src=\"https://colab.research.google.com/assets/colab-badge.svg\" alt=\"Open In Colab\"/></a>"
      ]
    },
    {
      "cell_type": "markdown",
      "source": [
        "# Primer código de python\n",
        "\n",
        "\n"
      ],
      "metadata": {
        "id": "ZXegcwnFr0NW"
      }
    },
    {
      "cell_type": "code",
      "execution_count": null,
      "metadata": {
        "colab": {
          "base_uri": "https://localhost:8080/"
        },
        "id": "bsZ8mSOgqHWA",
        "outputId": "f66c7bf4-fe17-4aad-b550-fe9a2dcdf6cf"
      },
      "outputs": [
        {
          "output_type": "stream",
          "name": "stdout",
          "text": [
            "Hello, World\n"
          ]
        }
      ],
      "source": [
        "# En python podemos usar comillas dobles para crear\n",
        "# un string (cadena de caracteres ó texto)\n",
        "\n",
        "print(\"Hello, World\")"
      ]
    },
    {
      "cell_type": "code",
      "source": [
        "# Pero tambien podemos usar comillas sencillas\n",
        "print('Hello, World')"
      ],
      "metadata": {
        "id": "UOdNJHzzustx",
        "outputId": "d87e3f0a-4f16-4776-8cfe-9f04014482cd",
        "colab": {
          "base_uri": "https://localhost:8080/"
        }
      },
      "execution_count": 1,
      "outputs": [
        {
          "output_type": "stream",
          "name": "stdout",
          "text": [
            "Hello, World\n"
          ]
        }
      ]
    }
  ]
}