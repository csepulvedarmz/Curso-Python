{
  "nbformat": 4,
  "nbformat_minor": 0,
  "metadata": {
    "colab": {
      "provenance": [],
      "authorship_tag": "ABX9TyMfGTbG9vD6E76P7znOqIAe",
      "include_colab_link": true
    },
    "kernelspec": {
      "name": "python3",
      "display_name": "Python 3"
    },
    "language_info": {
      "name": "python"
    }
  },
  "cells": [
    {
      "cell_type": "markdown",
      "metadata": {
        "id": "view-in-github",
        "colab_type": "text"
      },
      "source": [
        "<a href=\"https://colab.research.google.com/github/csepulvedarmz/Curso-Python/blob/main/Mi%20primer%20c%C3%B3digo%20de%20pyhton.ipynb\" target=\"_parent\"><img src=\"https://colab.research.google.com/assets/colab-badge.svg\" alt=\"Open In Colab\"/></a>"
      ]
    },
    {
      "cell_type": "markdown",
      "source": [
        "# Primer código de python\n",
        "\n",
        "\n"
      ],
      "metadata": {
        "id": "ZXegcwnFr0NW"
      }
    },
    {
      "cell_type": "code",
      "execution_count": null,
      "metadata": {
        "colab": {
          "base_uri": "https://localhost:8080/"
        },
        "id": "bsZ8mSOgqHWA",
        "outputId": "f66c7bf4-fe17-4aad-b550-fe9a2dcdf6cf"
      },
      "outputs": [
        {
          "output_type": "stream",
          "name": "stdout",
          "text": [
            "Hello, World\n"
          ]
        }
      ],
      "source": [
        "# En python podemos usar comillas dobles para crear\n",
        "# un string (cadena de caracteres ó texto).\n",
        "\n",
        "print(\"Hello, World\")"
      ]
    },
    {
      "cell_type": "code",
      "source": [
        "# Pero tambien podemos usar comillas sencillas.\n",
        "print('Hello, World')"
      ],
      "metadata": {
        "colab": {
          "base_uri": "https://localhost:8080/"
        },
        "id": "UOdNJHzzustx",
        "outputId": "d87e3f0a-4f16-4776-8cfe-9f04014482cd"
      },
      "execution_count": 1,
      "outputs": [
        {
          "output_type": "stream",
          "name": "stdout",
          "text": [
            "Hello, World\n"
          ]
        }
      ]
    },
    {
      "cell_type": "code",
      "source": [
        "# Aunque no es necesario usar el print en colab\n",
        "# para mostrar un resultado.\n",
        "\"Hello, World\"\n",
        "#Util cuando desarrollamos o queremos ver un resultado\n",
        "#rapido.\n",
        "#Pero, como buena practica hay que usar siempre la\n",
        "#funcion print para mostrar un resultado."
      ],
      "metadata": {
        "id": "QG7fj9yHu_fL"
      },
      "execution_count": null,
      "outputs": []
    },
    {
      "cell_type": "markdown",
      "source": [
        "# Introduccion"
      ],
      "metadata": {
        "id": "6NjFPDpVyA9H"
      }
    },
    {
      "cell_type": "markdown",
      "source": [
        "1.1 Zen de python\n",
        "\n"
      ],
      "metadata": {
        "id": "WXKQcxeWyLO4"
      }
    },
    {
      "cell_type": "code",
      "source": [
        "import this"
      ],
      "metadata": {
        "id": "0vuF8NwNyAGL",
        "outputId": "87ef71b7-e19a-491e-9b59-1fc836addd51",
        "colab": {
          "base_uri": "https://localhost:8080/"
        }
      },
      "execution_count": 2,
      "outputs": [
        {
          "output_type": "stream",
          "name": "stdout",
          "text": [
            "The Zen of Python, by Tim Peters\n",
            "\n",
            "Beautiful is better than ugly.\n",
            "Explicit is better than implicit.\n",
            "Simple is better than complex.\n",
            "Complex is better than complicated.\n",
            "Flat is better than nested.\n",
            "Sparse is better than dense.\n",
            "Readability counts.\n",
            "Special cases aren't special enough to break the rules.\n",
            "Although practicality beats purity.\n",
            "Errors should never pass silently.\n",
            "Unless explicitly silenced.\n",
            "In the face of ambiguity, refuse the temptation to guess.\n",
            "There should be one-- and preferably only one --obvious way to do it.\n",
            "Although that way may not be obvious at first unless you're Dutch.\n",
            "Now is better than never.\n",
            "Although never is often better than *right* now.\n",
            "If the implementation is hard to explain, it's a bad idea.\n",
            "If the implementation is easy to explain, it may be a good idea.\n",
            "Namespaces are one honking great idea -- let's do more of those!\n"
          ]
        }
      ]
    },
    {
      "cell_type": "markdown",
      "source": [
        "#Depuracion\n",
        "\n",
        "\n",
        "*   Encontrar y deshacerse de bugs/errores.\n",
        "*  Mientras los humanos escriban codigos de computadora, siempre habra errores en el programa de computadora.\n",
        "*   Aunque a veces es frustrante, es una de las partes intelectualmente mas ricas, desafiantes e interesantes de la programacion\n",
        "\n",
        "\n",
        "\n",
        "\n",
        "\n"
      ],
      "metadata": {
        "id": "lqc3_x1rzKAg"
      }
    },
    {
      "cell_type": "markdown",
      "source": [
        "#1.9 Ejercicios\n",
        "-Escribe un guión de hola mundo\n",
        "\n",
        "-Escriba un script de python que imprima \"Hello World!\" como salida en la consola  en Colab\n",
        "\n",
        "-Publicarlo en GitHutb\n",
        "\n",
        "-Compartir la liga de su código en github"
      ],
      "metadata": {
        "id": "3kITaZ6Ezy2w"
      }
    },
    {
      "cell_type": "code",
      "source": [],
      "metadata": {
        "id": "lnsEJsVu0ITw"
      },
      "execution_count": null,
      "outputs": []
    }
  ]
}