{
  "nbformat": 4,
  "nbformat_minor": 0,
  "metadata": {
    "colab": {
      "provenance": [],
      "authorship_tag": "ABX9TyO2EgU8C9OF90VjONWOJmig",
      "include_colab_link": true
    },
    "kernelspec": {
      "name": "python3",
      "display_name": "Python 3"
    },
    "language_info": {
      "name": "python"
    }
  },
  "cells": [
    {
      "cell_type": "markdown",
      "metadata": {
        "id": "view-in-github",
        "colab_type": "text"
      },
      "source": [
        "<a href=\"https://colab.research.google.com/github/csepulvedarmz/Curso-Python/blob/main/Actividad%203%20Ch03.ipynb\" target=\"_parent\"><img src=\"https://colab.research.google.com/assets/colab-badge.svg\" alt=\"Open In Colab\"/></a>"
      ]
    },
    {
      "cell_type": "code",
      "execution_count": 7,
      "metadata": {
        "id": "q2Iyv4KAAtFN"
      },
      "outputs": [],
      "source": [
        "#Nivel basico\n",
        "def area_cuadrado(lado):\n",
        "  \"\"'Calcula el area de un cuadrado'\"\"\n",
        "  area = lado * lado\n",
        "  return area"
      ]
    },
    {
      "cell_type": "code",
      "source": [
        "help(area_cuadrado)"
      ],
      "metadata": {
        "colab": {
          "base_uri": "https://localhost:8080/"
        },
        "id": "4U9qJGquA6q7",
        "outputId": "e2d9ee5a-09f3-4889-cd3c-1a165bbdfc5c"
      },
      "execution_count": 8,
      "outputs": [
        {
          "output_type": "stream",
          "name": "stdout",
          "text": [
            "Help on function area_cuadrado in module __main__:\n",
            "\n",
            "area_cuadrado(lado)\n",
            "    Calcula el area de un cuadrado\n",
            "\n"
          ]
        }
      ]
    },
    {
      "cell_type": "code",
      "source": [
        "area_cuadrado(4)"
      ],
      "metadata": {
        "colab": {
          "base_uri": "https://localhost:8080/"
        },
        "id": "G_ppQVb4BOoc",
        "outputId": "4aad7cd5-89ae-489e-8e3f-41abf56f97a6"
      },
      "execution_count": 14,
      "outputs": [
        {
          "output_type": "execute_result",
          "data": {
            "text/plain": [
              "16"
            ]
          },
          "metadata": {},
          "execution_count": 14
        }
      ]
    },
    {
      "cell_type": "code",
      "source": [
        "from typing import Union"
      ],
      "metadata": {
        "id": "TgsJ4GARCZuS"
      },
      "execution_count": 18,
      "outputs": []
    },
    {
      "cell_type": "code",
      "source": [
        "# Nivel intermedio-avanzado\n",
        "def area_cuadrado(lado: Union[int, float]) -> Union[int, float]:\n",
        "  \"\"'Calcula el area de un cuadrado'\"\"\n",
        "  area = lado * lado\n",
        "  return area"
      ],
      "metadata": {
        "id": "dDXeEUVPBmjd"
      },
      "execution_count": 20,
      "outputs": []
    },
    {
      "cell_type": "code",
      "source": [
        "# Area rectangulo\n",
        "def area_rectangulo(base: Union[int,float], altura: Union[int,float]) -> Union[int,float]:\n",
        "  \"\"'Calcula el area de un rectangulo'\"\"\n",
        "  area = base * altura\n",
        "  return area"
      ],
      "metadata": {
        "id": "MMHYZgipCuSk"
      },
      "execution_count": 21,
      "outputs": []
    },
    {
      "cell_type": "code",
      "source": [
        "area_rectangulo(5,7.25)"
      ],
      "metadata": {
        "colab": {
          "base_uri": "https://localhost:8080/"
        },
        "id": "uuBmAjo_DUha",
        "outputId": "914714b6-8ab1-4d0e-bb40-9d4b1a063af8"
      },
      "execution_count": 22,
      "outputs": [
        {
          "output_type": "execute_result",
          "data": {
            "text/plain": [
              "36.25"
            ]
          },
          "metadata": {},
          "execution_count": 22
        }
      ]
    },
    {
      "cell_type": "code",
      "source": [
        "# Perimetro rectangulo\n",
        "def perimetro_rectangulo(base: Union[int,float], altura: Union[int,float])  -> Union[int,float]:\n",
        "  \"\"'Calcula el perimetro de un rectangulo'\"\"\n",
        "  perimetro =  2*base + 2*altura\n",
        "  return perimetro"
      ],
      "metadata": {
        "id": "t2zR4iWmE1MI"
      },
      "execution_count": 36,
      "outputs": []
    },
    {
      "cell_type": "code",
      "source": [
        "perimetro_rectangulo(2,2)"
      ],
      "metadata": {
        "colab": {
          "base_uri": "https://localhost:8080/"
        },
        "id": "a1Jo24dDFKWC",
        "outputId": "364bcea4-ab9b-4f7b-e2c1-0504133ad2a5"
      },
      "execution_count": 37,
      "outputs": [
        {
          "output_type": "execute_result",
          "data": {
            "text/plain": [
              "8"
            ]
          },
          "metadata": {},
          "execution_count": 37
        }
      ]
    },
    {
      "cell_type": "code",
      "source": [
        "import math"
      ],
      "metadata": {
        "id": "cizVIRcMDfFS"
      },
      "execution_count": 32,
      "outputs": []
    },
    {
      "cell_type": "code",
      "source": [
        "# Area circulo\n",
        "def area_circulo(radio: Union[int,float]) -> Union[int, float]:\n",
        "  \"\"'Calcula el area de un circulo'\"\"\n",
        "  area = math.pi*pow(radio,2)\n",
        "  return area"
      ],
      "metadata": {
        "id": "RyGqQh90DXza"
      },
      "execution_count": 30,
      "outputs": []
    },
    {
      "cell_type": "code",
      "source": [
        "area_circulo(2)"
      ],
      "metadata": {
        "colab": {
          "base_uri": "https://localhost:8080/"
        },
        "id": "_GUbdnsNDyln",
        "outputId": "11fb9ef5-9339-494e-e8c9-259aa1a06fe7"
      },
      "execution_count": 33,
      "outputs": [
        {
          "output_type": "execute_result",
          "data": {
            "text/plain": [
              "12.566370614359172"
            ]
          },
          "metadata": {},
          "execution_count": 33
        }
      ]
    },
    {
      "cell_type": "code",
      "source": [
        "#Circunferencia\n",
        "def Circunferencia(radio: Union[int, float]) -> Union[int,float]:\n",
        "  \"\" 'Calcula la circunferencia de un circulo' \"\"\n",
        "  circ = 2*math.pi*radio\n",
        "  return circ"
      ],
      "metadata": {
        "id": "Nf2tYPgCD10y"
      },
      "execution_count": 34,
      "outputs": []
    },
    {
      "cell_type": "code",
      "source": [
        "Circunferencia(4)"
      ],
      "metadata": {
        "colab": {
          "base_uri": "https://localhost:8080/"
        },
        "id": "owWI6-wsEwtp",
        "outputId": "b7d91d5e-f448-4a0f-a6b0-abb45d48d215"
      },
      "execution_count": 35,
      "outputs": [
        {
          "output_type": "execute_result",
          "data": {
            "text/plain": [
              "25.132741228718345"
            ]
          },
          "metadata": {},
          "execution_count": 35
        }
      ]
    }
  ]
}